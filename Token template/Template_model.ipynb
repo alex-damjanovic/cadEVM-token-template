{
 "cells": [
  {
   "cell_type": "markdown",
   "metadata": {},
   "source": [
    "# Simple model simulating trading between two agents - not deployed contract"
   ]
  },
  {
   "cell_type": "code",
   "execution_count": 57,
   "metadata": {},
   "outputs": [],
   "source": [
    "import sys\n",
    "sys.path.append(\"..\")\n",
    "import pandas as pd\n",
    "import plotly.express as px\n",
    "from radcad import Model, Simulation, Experiment\n",
    "from radcad.engine import Engine, Backend\n",
    "import random\n",
    "from cadEVM.connector  import connect_fork, connect_mainnet\n",
    "from ape import config, networks, accounts, project, chain, Contract\n",
    "from dotenv import load_dotenv\n"
   ]
  },
  {
   "cell_type": "code",
   "execution_count": 22,
   "metadata": {},
   "outputs": [
    {
     "data": {
      "text/plain": [
       "True"
      ]
     },
     "execution_count": 22,
     "metadata": {},
     "output_type": "execute_result"
    }
   ],
   "source": [
    "# remember to have your alchemy \n",
    "load_dotenv()\n"
   ]
  },
  {
   "cell_type": "code",
   "execution_count": 23,
   "metadata": {},
   "outputs": [],
   "source": [
    "!ape compile"
   ]
  },
  {
   "cell_type": "code",
   "execution_count": 24,
   "metadata": {},
   "outputs": [
    {
     "data": {
      "text/plain": [
       "<hardhat chain_id=31337>"
      ]
     },
     "execution_count": 24,
     "metadata": {},
     "output_type": "execute_result"
    }
   ],
   "source": [
    "connect_fork()"
   ]
  },
  {
   "cell_type": "code",
   "execution_count": 25,
   "metadata": {},
   "outputs": [],
   "source": [
    "dev = accounts.test_accounts[0]\n",
    "reciever_1 = accounts.test_accounts[1]"
   ]
  },
  {
   "cell_type": "code",
   "execution_count": 26,
   "metadata": {},
   "outputs": [
    {
     "data": {
      "text/plain": [
       "(<TestAccount 0x1e59ce931B4CFea3fe4B875411e280e173cB7A9C>,\n",
       " <TestAccount 0xc89D42189f0450C2b2c3c61f58Ec5d628176A1E7>)"
      ]
     },
     "execution_count": 26,
     "metadata": {},
     "output_type": "execute_result"
    }
   ],
   "source": [
    "dev, reciever_1"
   ]
  },
  {
   "cell_type": "code",
   "execution_count": 27,
   "metadata": {},
   "outputs": [
    {
     "data": {
      "text/plain": [
       "<ethereum:mainnet-fork chain_id=31337>"
      ]
     },
     "execution_count": 27,
     "metadata": {},
     "output_type": "execute_result"
    }
   ],
   "source": [
    "networks.network"
   ]
  },
  {
   "cell_type": "code",
   "execution_count": 28,
   "metadata": {},
   "outputs": [
    {
     "name": "stdout",
     "output_type": "stream",
     "text": [
      "INFO: Confirmed 0x87e75f958402d49736b6c4b8fc2f19a6975b3880030107f9a44d6595ce3f0a67 (total fees paid = 521433000000000)\n",
      "SUCCESS: Contract 'Token' deployed to: \u001b[1m0xe586Ca95C4f80436D8E265A2689AeAD4e0c21011\u001b[0m\n"
     ]
    }
   ],
   "source": [
    "contract = project.Token.deploy(\"Test\", \"TST\", 18, 2000000, sender = dev)"
   ]
  },
  {
   "cell_type": "code",
   "execution_count": 29,
   "metadata": {},
   "outputs": [
    {
     "data": {
      "text/plain": [
       "Block(num_transactions=1, hash=HexBytes('0xb1c5e63fb4872da6559f0942b5ab04c2936dc0147166731c60b467f15f25ef81'), number=18541791, parent_hash=HexBytes('0x77800cbe6232fe4590a77e8255cdbc6358c7997371527621fa0e22402222d832'), size=3189, timestamp=1699621226, gas_limit=30000000, gas_used=521433, base_fee=0, difficulty=0, total_difficulty=58750003716598352816469)"
      ]
     },
     "execution_count": 29,
     "metadata": {},
     "output_type": "execute_result"
    }
   ],
   "source": [
    "chain.provider.get_block(\"latest\")"
   ]
  },
  {
   "cell_type": "code",
   "execution_count": 30,
   "metadata": {},
   "outputs": [
    {
     "data": {
      "text/plain": [
       "2000000"
      ]
     },
     "execution_count": 30,
     "metadata": {},
     "output_type": "execute_result"
    }
   ],
   "source": [
    "contract.totalSupply()"
   ]
  },
  {
   "cell_type": "code",
   "execution_count": 31,
   "metadata": {},
   "outputs": [
    {
     "data": {
      "text/plain": [
       "2000000"
      ]
     },
     "execution_count": 31,
     "metadata": {},
     "output_type": "execute_result"
    }
   ],
   "source": [
    "contract.balanceOf(dev)"
   ]
  },
  {
   "cell_type": "code",
   "execution_count": 32,
   "metadata": {},
   "outputs": [
    {
     "name": "stdout",
     "output_type": "stream",
     "text": [
      "INFO: Confirmed 0xe91d50e2c63ee952bac4bf9d1ef059d605f182080a61d9cc08b1b59845a0e931 (total fees paid = 51634000000000)\n"
     ]
    },
    {
     "data": {
      "text/plain": [
       "<Receipt 0xe91d50e2c63ee952bac4bf9d1ef059d605f182080a61d9cc08b1b59845a0e931>"
      ]
     },
     "execution_count": 32,
     "metadata": {},
     "output_type": "execute_result"
    }
   ],
   "source": [
    "contract.transfer( accounts.test_accounts[1] , 100000, sender = dev)"
   ]
  },
  {
   "cell_type": "code",
   "execution_count": 33,
   "metadata": {},
   "outputs": [
    {
     "data": {
      "text/plain": [
       "{'a_agent': <TestAccount 0x1e59ce931B4CFea3fe4B875411e280e173cB7A9C>,\n",
       " 'b_agent': <TestAccount 0xc89D42189f0450C2b2c3c61f58Ec5d628176A1E7>}"
      ]
     },
     "execution_count": 33,
     "metadata": {},
     "output_type": "execute_result"
    }
   ],
   "source": [
    "params = {\n",
    "    'a_agent': dev,\n",
    "    'b_agent': reciever_1,\n",
    "}\n",
    "params"
   ]
  },
  {
   "cell_type": "code",
   "execution_count": 34,
   "metadata": {},
   "outputs": [
    {
     "data": {
      "text/plain": [
       "{'a_balance': 1900000, 'b_balance': 100000}"
      ]
     },
     "execution_count": 34,
     "metadata": {},
     "output_type": "execute_result"
    }
   ],
   "source": [
    "initial_state =  {\n",
    "      \n",
    "     'a_balance': contract.balanceOf(params['a_agent']),\n",
    "      'b_balance': contract.balanceOf(params['b_agent'])\n",
    "}\n",
    "initial_state"
   ]
  },
  {
   "cell_type": "code",
   "execution_count": 35,
   "metadata": {},
   "outputs": [],
   "source": [
    "def p_trade(params, substep, state_history, prev_state, **kwargs):\n",
    "    global contract\n",
    "   \n",
    "    if random.choice([True, False]):\n",
    "        sender_address = params['a_agent']\n",
    "        recipient_address = params['b_agent']\n",
    "    else:\n",
    "        sender_address = params['b_agent']\n",
    "        recipient_address = params['a_agent']\n",
    "\n",
    "    try:\n",
    "        contract.transfer(recipient_address , 50000, sender = sender_address)\n",
    "    except:\n",
    "        contract.transfer(recipient_address , 50000, sender = dev)\n",
    "\n",
    "    sent = \"Sent\"\n",
    "\n",
    "    return {'sent_signal': sent}"
   ]
  },
  {
   "cell_type": "code",
   "execution_count": 36,
   "metadata": {},
   "outputs": [],
   "source": [
    "def s_update_balance_a(params, substep, state_history, prev_state, policy_input, **kwargs):\n",
    "    balance = contract.balanceOf(params['a_agent'])\n",
    "    return 'a_balance', balance \n",
    "\n",
    "def s_update_balance_b(params, substep, state_history, prev_state, policy_input, **kwargs):\n",
    "    balance = contract.balanceOf(params['b_agent'])\n",
    "    return 'b_balance', balance \n"
   ]
  },
  {
   "cell_type": "code",
   "execution_count": 37,
   "metadata": {},
   "outputs": [],
   "source": [
    "state_update_blocks = [\n",
    "    {\n",
    "        'policies': {\n",
    "            'trade': p_trade,\n",
    "        },\n",
    "        'variables': {\n",
    "            'a_balance': s_update_balance_a,\n",
    "            'b_balance': s_update_balance_b,\n",
    "        }\n",
    "    }\n",
    "\n",
    "]"
   ]
  },
  {
   "cell_type": "code",
   "execution_count": 38,
   "metadata": {},
   "outputs": [
    {
     "name": "stdout",
     "output_type": "stream",
     "text": [
      "INFO: Confirmed 0xa535d52e4b61a2a2bf612b5aade7a9f9c5855b61909dd2acf3656d08b72ca4aa (total fees paid = 34522000000000)\n",
      "INFO: Confirmed 0xad7f64e356837530603b1927cdb7d2b9f7ab650ed42ba2d4d369a1348573544d (total fees paid = 34522000000000)\n",
      "INFO: Confirmed 0xd3ea66370766befa1b9896dd7760af7c31dbba258a45d7ae34837c3be66fd703 (total fees paid = 34522000000000)\n",
      "INFO: Confirmed 0xbc822fb3dad0dbd950c3fb45e503885814e758d51b0d671a5fa4d72f8c1bed43 (total fees paid = 29722000000000)\n",
      "INFO: Confirmed 0x56125c9b0194de87c2b6747443ffebeba1b6fd6fa732d9827ab041a5428ac685 (total fees paid = 26922000000000)\n",
      "INFO: Confirmed 0x7e1e593f3628c392944d8012aace4ef2b930884de52381e5e26c57e4fae67d4e (total fees paid = 26922000000000)\n",
      "INFO: Confirmed 0xfc1ebae4acaebf38ae816ebd461bd72b0296561acf8daa0212c283d174d98255 (total fees paid = 51622000000000)\n",
      "INFO: Confirmed 0x27c98070f4683b7ef9e3da631c4efb98cd03804310a7c53a1cdf12bcd0526bfa (total fees paid = 34522000000000)\n",
      "INFO: Confirmed 0xe14cd9423676b4be44c987d76033fa4041f33cf11edf8666b6e6299087e772d4 (total fees paid = 34522000000000)\n",
      "INFO: Confirmed 0xc480a9a116686b0ace8fc1727de35100c0bc32aa7f7f9dd829ded704c158717e (total fees paid = 34522000000000)\n",
      "INFO: Confirmed 0xf1fb3dd010f479c8cf439f94c899bbd6708e5ba22dd1369105c1e1bf1dc9126a (total fees paid = 34522000000000)\n",
      "INFO: Confirmed 0x40c81f8326ff4307b36c257ec0b091fedaef23281b62dbb9121045efc3f95df6 (total fees paid = 34522000000000)\n",
      "INFO: Confirmed 0xb60c6f3848211b61c2d52834614be6e205d5bb42ebe86642930361ea0c0faa3a (total fees paid = 34522000000000)\n",
      "INFO: Confirmed 0x99a76010059e8050f92b54acaf27d2a0d15dc2701e1f37fb2cb08f3477b06566 (total fees paid = 34522000000000)\n",
      "INFO: Confirmed 0xfe3225c2a2fa36f797149afd19cf39826f803ac3ce423f23bda128c5112bd606 (total fees paid = 34522000000000)\n",
      "INFO: Confirmed 0xc5f64514d1bcd9258fc65b4a96d441468878ceb60b999f6a137323d1e59a0b4e (total fees paid = 34522000000000)\n",
      "INFO: Confirmed 0x3951cc10199f5cc5c12c3a9438021b72804dafc8a3c113f616b74d274eb3beb2 (total fees paid = 34522000000000)\n",
      "INFO: Confirmed 0xabe8eacbf6a71319375d30cdfd9836267428048bbc57880d6fa9c12a7e341e2d (total fees paid = 34522000000000)\n",
      "INFO: Confirmed 0x65b94df06843a7132d3ec12a63a59c6a62a107426d07055234fe832a3bf08abe (total fees paid = 34522000000000)\n",
      "INFO: Confirmed 0x068d6894c5c6bf668661bc0f9741220743c938d7359b666e79cc894d126a51d0 (total fees paid = 34522000000000)\n",
      "INFO: Confirmed 0xc3c82d806ce442fe095dcf07e435f9973c2fe8efd41eed773183342beafe81f7 (total fees paid = 34522000000000)\n",
      "INFO: Confirmed 0x5fa689c561e631de56d39bd3db64d53427afc6158a202b8cc12bdb589200a20f (total fees paid = 34522000000000)\n",
      "INFO: Confirmed 0x2dc879a7fee67068deb756c84186d017ee87063a3ea5d21798cb0beddd0355ce (total fees paid = 34522000000000)\n",
      "INFO: Confirmed 0x9f737d575113a1902cef969dfd6c44c596c35a352c0938f9e29c6b2d9f518e79 (total fees paid = 34522000000000)\n",
      "INFO: Confirmed 0xd964b8e5001f209d9cfc90620bd9838c4240717e159700a67d59ae3514b1f285 (total fees paid = 34522000000000)\n",
      "INFO: Confirmed 0xbaa2ebf98c1c6436976fc4dd16f9f65dee18e4511ce7022c273393ead39dfb12 (total fees paid = 34522000000000)\n",
      "INFO: Confirmed 0x305f20cca2a5ff3525c24c9ddd2e89376d815701dd633b3923e7c0472792104d (total fees paid = 34522000000000)\n",
      "INFO: Confirmed 0x688d1ee50d716d45ea1f643bdf143118bd1bbaec999335494af679e549a6f949 (total fees paid = 34522000000000)\n",
      "INFO: Confirmed 0x9c8d0e3aca91dd1da5a0e861f00c9f0944df473450b0dbb2db337f5ca294b522 (total fees paid = 34522000000000)\n",
      "INFO: Confirmed 0x18894dd83f68c8d2ada2090ab85e05d9a69eb9b2c0d32f0bd00811ea4bcaa43e (total fees paid = 34522000000000)\n",
      "INFO: Confirmed 0x7f4d3d6b29aea253ff454f32ba557a7eac31341b2caa6800c0df845eadd128bd (total fees paid = 34522000000000)\n",
      "INFO: Confirmed 0x3ba83e0ee44c536735d45208dc420f74e56192cb1465cc8909598239e5049355 (total fees paid = 34522000000000)\n",
      "INFO: Confirmed 0x56144cd19b8891bb1d25279ca434e3b731152d4c4119317f0607a3caf5bdf30b (total fees paid = 34522000000000)\n",
      "INFO: Confirmed 0xf012b48153eda72f47fc77870f40a0c09d9cc6b3accde6553b016fbd32d82c5c (total fees paid = 34522000000000)\n",
      "INFO: Confirmed 0xd74dc1aebf3dc8d49b99d4ba48400ad5fb263a99babf9cf889fa66ca9a6e5502 (total fees paid = 34522000000000)\n",
      "INFO: Confirmed 0x249d372ff6d0109a0fb8d31bb3e211684241947c55df9c89a15b2a62664131ce (total fees paid = 34522000000000)\n",
      "INFO: Confirmed 0x4974c5b16865a8bc8ae593b24125ccc6cfbf9a2c8f832640e89cde2bfe6abbec (total fees paid = 34522000000000)\n",
      "INFO: Confirmed 0x5561fef3f8d3bf4b6eb5e052ff062dbfa4b6206cdb0229d04450b4ff9754c815 (total fees paid = 34522000000000)\n",
      "INFO: Confirmed 0x36b49b7c52aac749af06855929b6a6b25069fda18aee555c0ed6c25fa699790e (total fees paid = 34522000000000)\n",
      "INFO: Confirmed 0x83a76da0a2d5ab2c835f3c848dc51479e37d4836e0214c0f6a37324e68d8548b (total fees paid = 34522000000000)\n",
      "INFO: Confirmed 0x60bc71d3b3f98673a84f1c5c32b6346d315fbbacb4759ea92f223759fd807cac (total fees paid = 34522000000000)\n",
      "INFO: Confirmed 0x1276a8b04088bf52751c94722292e05162a376db712050c625dddeafa0d515ca (total fees paid = 34522000000000)\n",
      "INFO: Confirmed 0xaf33a7ec5bb0d9f14dfbc3aae0c49feaf39c17b45bead6fa22f3c13810e2fb64 (total fees paid = 34522000000000)\n",
      "INFO: Confirmed 0xee3d1d56e9fb3aae3959f93b2fe3dac0e60926ef7b5946e2b937a089f14c0283 (total fees paid = 34522000000000)\n",
      "INFO: Confirmed 0x02beaf9391d8d28d03c811a56e4c8c059f6597f8bdc4c91f33531f4487fc9994 (total fees paid = 34522000000000)\n",
      "INFO: Confirmed 0x12ae1652be1ef133dad0e4cd76b84a3c013910a4f4856afab2bb98a678c3af98 (total fees paid = 34522000000000)\n",
      "INFO: Confirmed 0x2d04499af574f56563cfa3e89ec1c4fb5370945e9d883295887079e835a97571 (total fees paid = 34522000000000)\n",
      "INFO: Confirmed 0xe52574427635ce1a0b88313fac492b26e6157e97a0fea38a915a9aa36c7e9b9b (total fees paid = 34522000000000)\n",
      "INFO: Confirmed 0xa817dca30373c8b340d3c0c9cb0f79b587746969c775b72a3901ae261766649c (total fees paid = 34522000000000)\n",
      "INFO: Confirmed 0xb15d40bf6a38fe10bf783537149a6f01d14ea4ebfe26bbb4e4f49a0fd7810289 (total fees paid = 34522000000000)\n",
      "INFO: Confirmed 0x0b85debe46cf2d873c4b5849a4b6b917f1f67f54db152860e590b81b34f19d00 (total fees paid = 34522000000000)\n",
      "INFO: Confirmed 0x9d28366c47762f0465ad03d6e103e71a3a76cbc96e7af793017dd36ea6498eb7 (total fees paid = 34522000000000)\n",
      "INFO: Confirmed 0xcb90ec58f282652313aa19f949aeefefbfc6b688c858a91d16df4cb42d6829ef (total fees paid = 34522000000000)\n",
      "INFO: Confirmed 0x205f7251fde6b7f31c077b5c3c2e16b892c8b1496f8149d38e94bc48d5b7c2f6 (total fees paid = 34522000000000)\n",
      "INFO: Confirmed 0x7d55a1d258518477017a272a105be6ecc24abad9da7ef1f24bb163475238d920 (total fees paid = 34522000000000)\n",
      "INFO: Confirmed 0x30a933ac10aa1a00b9dbb01af36ba4e03e4a17bed6b78514e7e0fb5a2b88feba (total fees paid = 34522000000000)\n",
      "INFO: Confirmed 0x9eecef777696c20da7e1131738ceed66314b188c999bca2e745121afd8b02738 (total fees paid = 34522000000000)\n",
      "INFO: Confirmed 0x132e5b275ef84f80d545e8ea0ba7f62152f1558b41a15ccf0629a58b7210f880 (total fees paid = 34522000000000)\n",
      "INFO: Confirmed 0xf6defa2e773cdec54cfc7cd4f090039afb7dc0c076093c9569feb08cef9b8d32 (total fees paid = 34522000000000)\n",
      "INFO: Confirmed 0x04f3223421e315126cfcbb8e4f7565d56dea44ddff64d9388c35577f3d89c481 (total fees paid = 34522000000000)\n",
      "INFO: Confirmed 0x0422b6dfa3154c01ca2e93124f1ee4ca8cb3ff3acd0b2cef397260c600214f0e (total fees paid = 34522000000000)\n",
      "INFO: Confirmed 0x2482034e83f8d5fbc29d7f67d5992b9538709f3d7c3d76d716f190823c851c67 (total fees paid = 34522000000000)\n",
      "INFO: Confirmed 0x43f11fb8f2af9ef270de8d5a917bc0811fbc1d3992e60f00d789fa5c51b24ba6 (total fees paid = 34522000000000)\n",
      "INFO: Confirmed 0xb35cc8f0b6b5f0703cd7085605830f038a2f094e2c14a3f1a63d43253a44e949 (total fees paid = 34522000000000)\n",
      "INFO: Confirmed 0xf3ebfdb0456ee5512ff6fef20d6c0a74605c6e70946398af4c7d6e140ea4ed7c (total fees paid = 34522000000000)\n",
      "INFO: Confirmed 0xbf4a86cf6ac10c6c78808db9528e8c9a12ace3c92879a25f8e8bb1f702b27023 (total fees paid = 34522000000000)\n",
      "INFO: Confirmed 0xdbaebe147d24176f48cc5c6988f97c293856a52b3d6becdffe30b324c4c43b55 (total fees paid = 34522000000000)\n",
      "INFO: Confirmed 0x64cf21866e56ac2e8648ed82b7a68bff6ea93a8f5aaf10a99fb4eef18b5ac0c6 (total fees paid = 34522000000000)\n",
      "INFO: Confirmed 0x5f2a3eb83cf8d36874b00ec33d108e9bff4c0f9f41955e639c2b943a55b4f82a (total fees paid = 34522000000000)\n",
      "INFO: Confirmed 0x5a6efbefd1062dffa2d2d05bb90af2b2766b78679d236e697b2dec52c3db9f91 (total fees paid = 34522000000000)\n",
      "INFO: Confirmed 0x00cf79d949d5a43bcdcd8e63e708f2f8573c0ccb5ee65f5343c5c13f44e417ea (total fees paid = 34522000000000)\n",
      "INFO: Confirmed 0x8095fec008165e2ee647b35d15f72bc574901b7c4ab4c4b748cd0f6592c97c67 (total fees paid = 34522000000000)\n",
      "INFO: Confirmed 0xa150f710c123b41fa37d05d6d3e3e52998bdf0a1592a08aca7690e02bf1c02f5 (total fees paid = 34522000000000)\n",
      "INFO: Confirmed 0xa3b8a158d51ce2e5d97e495e7f6cb7056deaaa8e01890b623031e4a3940bf18b (total fees paid = 34522000000000)\n",
      "INFO: Confirmed 0x1f02b567247fed56cd8d6aacac2896c3c3d493fec8e4c59a51f7db4317c28ccd (total fees paid = 34522000000000)\n",
      "INFO: Confirmed 0x3fd146fe2576557e9dd6b0df51e27414c54c9806bae9aa3ea81f4e7cc9784b60 (total fees paid = 34522000000000)\n",
      "INFO: Confirmed 0x9297be1fb74bec9c5e3e2f5a9ec88b33909e8342d70a0402c3ff5ab75c815da0 (total fees paid = 34522000000000)\n",
      "INFO: Confirmed 0x0b9973424b3b9384b0345af0fafa579e2163f1cab822fce2a1a4a457a8ba444a (total fees paid = 34522000000000)\n",
      "INFO: Confirmed 0xcabd4728732cd4a2fe4c948a2f63203b4dde01f3d9e3e588cbc4862c70a69cdd (total fees paid = 34522000000000)\n",
      "INFO: Confirmed 0x531ae1af4d04458fd4a7ca145e0d1c85229acab2d69e930b4685a980be205db8 (total fees paid = 34522000000000)\n",
      "INFO: Confirmed 0xc79e4182ca9276b62fea603796fac3b640faa4855ff9e5363355abca45f7f82b (total fees paid = 34522000000000)\n",
      "INFO: Confirmed 0x521001a42deb1cacb4b1596a57b503482b879b63ec02d2fb350c4106795f458b (total fees paid = 34522000000000)\n",
      "INFO: Confirmed 0x836be395607b043464759e81da833ae81bca368901f5e3aff80da062e9186023 (total fees paid = 34522000000000)\n",
      "INFO: Confirmed 0xf36004f2a913caed1f0a4f317b1b94b8fb84317e180ee3e7b4b4cc189b67821b (total fees paid = 34522000000000)\n",
      "INFO: Confirmed 0x53c76cfd831e30847758a78249d24c6d4515239d39f40809f33a23c5bf805090 (total fees paid = 34522000000000)\n",
      "INFO: Confirmed 0x84a6c97294042906b9322b60b5f69c9a68a6a45f097ba0dd22502caa91ac5b15 (total fees paid = 34522000000000)\n",
      "INFO: Confirmed 0x6095d97ce30febef31c72d55b2eb7c3cc18bc8fb41f6192944942973f0bc63eb (total fees paid = 34522000000000)\n",
      "INFO: Confirmed 0x171b824dfe7f147a5b87d63112816e8425500342d1fdab990561730715e890de (total fees paid = 34522000000000)\n",
      "INFO: Confirmed 0xab4020a8c15f5030cb87e7678168038ac671d5f30c6ab47366cab2e6701dcd6b (total fees paid = 34522000000000)\n",
      "INFO: Confirmed 0x35101a7f63a9f39e5b29e0ddbe675c4ea743ce14c9898565670691f0e5126918 (total fees paid = 34522000000000)\n",
      "INFO: Confirmed 0x676facb14ae8b2f7a7c8bd04134c0a123555e25a00dab6fcee834b1dfb3ed982 (total fees paid = 34522000000000)\n",
      "INFO: Confirmed 0x34e893dcd8dec5ee4fd0062bba80a772a68a32d9f56124b3806d0f1d18570e81 (total fees paid = 34522000000000)\n",
      "INFO: Confirmed 0x2f8645a31d5ba85261e2b233556a360a64db03d6363d2ac15a75520a79040408 (total fees paid = 34522000000000)\n",
      "INFO: Confirmed 0x6f0e1e8053b6bede0cff3dbd27942ba6cf260e7425b5da0a163b1f7d3b3b2f9f (total fees paid = 34522000000000)\n",
      "INFO: Confirmed 0x65566971a2f9cc2ef03c1aeb806330f4113209ac22545d775311b9047a391c32 (total fees paid = 34522000000000)\n",
      "INFO: Confirmed 0x89e5e8d00f0a48692af201f9c3bee7a299b8bd12bb064e31a229b8774812b716 (total fees paid = 34522000000000)\n",
      "INFO: Confirmed 0xdf9ed0d683e1f623836624cbdb558dfabd1a00c7583d45a6aa00c8ddb3a487a3 (total fees paid = 34522000000000)\n",
      "INFO: Confirmed 0x7def77a7d1be8881a9f8d08fe22175692fbaf76ec43bdc71b54010b6ef8d5574 (total fees paid = 34522000000000)\n",
      "INFO: Confirmed 0x35094e067b486b7876526d8508da82a621ffd4bacef6a345f92cc2ce69d97520 (total fees paid = 34522000000000)\n",
      "INFO: Confirmed 0x242fdb6b904264944050a7a058c8dc0060a8f7b638172b3910e4fdb7be240952 (total fees paid = 34522000000000)\n"
     ]
    }
   ],
   "source": [
    "TIMESTEPS = 100\n",
    "RUNS = 1\n",
    "model = Model(initial_state=initial_state, state_update_blocks=state_update_blocks, params=params)\n",
    "simulation = Simulation(model=model, timesteps=TIMESTEPS, runs=RUNS)\n",
    "experiment = Experiment(simulation)\n",
    "# Select the Pathos backend to avoid issues with multiprocessing and Jupyter Notebooks\n",
    "experiment.engine = Engine(backend=Backend.PATHOS)\n",
    "\n",
    "result = experiment.run()"
   ]
  },
  {
   "cell_type": "code",
   "execution_count": 39,
   "metadata": {},
   "outputs": [
    {
     "data": {
      "text/html": [
       "<div>\n",
       "<style scoped>\n",
       "    .dataframe tbody tr th:only-of-type {\n",
       "        vertical-align: middle;\n",
       "    }\n",
       "\n",
       "    .dataframe tbody tr th {\n",
       "        vertical-align: top;\n",
       "    }\n",
       "\n",
       "    .dataframe thead th {\n",
       "        text-align: right;\n",
       "    }\n",
       "</style>\n",
       "<table border=\"1\" class=\"dataframe\">\n",
       "  <thead>\n",
       "    <tr style=\"text-align: right;\">\n",
       "      <th></th>\n",
       "      <th>a_balance</th>\n",
       "      <th>b_balance</th>\n",
       "      <th>simulation</th>\n",
       "      <th>subset</th>\n",
       "      <th>run</th>\n",
       "      <th>substep</th>\n",
       "      <th>timestep</th>\n",
       "    </tr>\n",
       "  </thead>\n",
       "  <tbody>\n",
       "    <tr>\n",
       "      <th>0</th>\n",
       "      <td>1900000</td>\n",
       "      <td>100000</td>\n",
       "      <td>0</td>\n",
       "      <td>0</td>\n",
       "      <td>1</td>\n",
       "      <td>0</td>\n",
       "      <td>0</td>\n",
       "    </tr>\n",
       "    <tr>\n",
       "      <th>1</th>\n",
       "      <td>1950000</td>\n",
       "      <td>50000</td>\n",
       "      <td>0</td>\n",
       "      <td>0</td>\n",
       "      <td>1</td>\n",
       "      <td>1</td>\n",
       "      <td>1</td>\n",
       "    </tr>\n",
       "    <tr>\n",
       "      <th>2</th>\n",
       "      <td>1900000</td>\n",
       "      <td>100000</td>\n",
       "      <td>0</td>\n",
       "      <td>0</td>\n",
       "      <td>1</td>\n",
       "      <td>1</td>\n",
       "      <td>2</td>\n",
       "    </tr>\n",
       "    <tr>\n",
       "      <th>3</th>\n",
       "      <td>1950000</td>\n",
       "      <td>50000</td>\n",
       "      <td>0</td>\n",
       "      <td>0</td>\n",
       "      <td>1</td>\n",
       "      <td>1</td>\n",
       "      <td>3</td>\n",
       "    </tr>\n",
       "    <tr>\n",
       "      <th>4</th>\n",
       "      <td>2000000</td>\n",
       "      <td>0</td>\n",
       "      <td>0</td>\n",
       "      <td>0</td>\n",
       "      <td>1</td>\n",
       "      <td>1</td>\n",
       "      <td>4</td>\n",
       "    </tr>\n",
       "    <tr>\n",
       "      <th>...</th>\n",
       "      <td>...</td>\n",
       "      <td>...</td>\n",
       "      <td>...</td>\n",
       "      <td>...</td>\n",
       "      <td>...</td>\n",
       "      <td>...</td>\n",
       "      <td>...</td>\n",
       "    </tr>\n",
       "    <tr>\n",
       "      <th>96</th>\n",
       "      <td>1600000</td>\n",
       "      <td>400000</td>\n",
       "      <td>0</td>\n",
       "      <td>0</td>\n",
       "      <td>1</td>\n",
       "      <td>1</td>\n",
       "      <td>96</td>\n",
       "    </tr>\n",
       "    <tr>\n",
       "      <th>97</th>\n",
       "      <td>1550000</td>\n",
       "      <td>450000</td>\n",
       "      <td>0</td>\n",
       "      <td>0</td>\n",
       "      <td>1</td>\n",
       "      <td>1</td>\n",
       "      <td>97</td>\n",
       "    </tr>\n",
       "    <tr>\n",
       "      <th>98</th>\n",
       "      <td>1500000</td>\n",
       "      <td>500000</td>\n",
       "      <td>0</td>\n",
       "      <td>0</td>\n",
       "      <td>1</td>\n",
       "      <td>1</td>\n",
       "      <td>98</td>\n",
       "    </tr>\n",
       "    <tr>\n",
       "      <th>99</th>\n",
       "      <td>1450000</td>\n",
       "      <td>550000</td>\n",
       "      <td>0</td>\n",
       "      <td>0</td>\n",
       "      <td>1</td>\n",
       "      <td>1</td>\n",
       "      <td>99</td>\n",
       "    </tr>\n",
       "    <tr>\n",
       "      <th>100</th>\n",
       "      <td>1400000</td>\n",
       "      <td>600000</td>\n",
       "      <td>0</td>\n",
       "      <td>0</td>\n",
       "      <td>1</td>\n",
       "      <td>1</td>\n",
       "      <td>100</td>\n",
       "    </tr>\n",
       "  </tbody>\n",
       "</table>\n",
       "<p>101 rows × 7 columns</p>\n",
       "</div>"
      ],
      "text/plain": [
       "     a_balance  b_balance  simulation  subset  run  substep  timestep\n",
       "0      1900000     100000           0       0    1        0         0\n",
       "1      1950000      50000           0       0    1        1         1\n",
       "2      1900000     100000           0       0    1        1         2\n",
       "3      1950000      50000           0       0    1        1         3\n",
       "4      2000000          0           0       0    1        1         4\n",
       "..         ...        ...         ...     ...  ...      ...       ...\n",
       "96     1600000     400000           0       0    1        1        96\n",
       "97     1550000     450000           0       0    1        1        97\n",
       "98     1500000     500000           0       0    1        1        98\n",
       "99     1450000     550000           0       0    1        1        99\n",
       "100    1400000     600000           0       0    1        1       100\n",
       "\n",
       "[101 rows x 7 columns]"
      ]
     },
     "execution_count": 39,
     "metadata": {},
     "output_type": "execute_result"
    }
   ],
   "source": [
    "df = pd.DataFrame(result)\n",
    "df"
   ]
  },
  {
   "cell_type": "code",
   "execution_count": 40,
   "metadata": {},
   "outputs": [
    {
     "data": {
      "application/vnd.plotly.v1+json": {
       "config": {
        "plotlyServerURL": "https://plot.ly"
       },
       "data": [
        {
         "hovertemplate": "variable=a_balance<br>timestep=%{x}<br>value=%{y}<extra></extra>",
         "legendgroup": "a_balance",
         "line": {
          "color": "#636efa",
          "dash": "solid"
         },
         "marker": {
          "symbol": "circle"
         },
         "mode": "lines",
         "name": "a_balance",
         "orientation": "v",
         "showlegend": true,
         "type": "scatter",
         "x": [
          0,
          1,
          2,
          3,
          4,
          5,
          6,
          7,
          8,
          9,
          10,
          11,
          12,
          13,
          14,
          15,
          16,
          17,
          18,
          19,
          20,
          21,
          22,
          23,
          24,
          25,
          26,
          27,
          28,
          29,
          30,
          31,
          32,
          33,
          34,
          35,
          36,
          37,
          38,
          39,
          40,
          41,
          42,
          43,
          44,
          45,
          46,
          47,
          48,
          49,
          50,
          51,
          52,
          53,
          54,
          55,
          56,
          57,
          58,
          59,
          60,
          61,
          62,
          63,
          64,
          65,
          66,
          67,
          68,
          69,
          70,
          71,
          72,
          73,
          74,
          75,
          76,
          77,
          78,
          79,
          80,
          81,
          82,
          83,
          84,
          85,
          86,
          87,
          88,
          89,
          90,
          91,
          92,
          93,
          94,
          95,
          96,
          97,
          98,
          99,
          100
         ],
         "xaxis": "x",
         "y": [
          1900000,
          1950000,
          1900000,
          1950000,
          2000000,
          2000000,
          2000000,
          1950000,
          1900000,
          1850000,
          1800000,
          1750000,
          1700000,
          1650000,
          1600000,
          1550000,
          1600000,
          1550000,
          1500000,
          1550000,
          1500000,
          1550000,
          1500000,
          1450000,
          1400000,
          1450000,
          1500000,
          1550000,
          1500000,
          1550000,
          1600000,
          1650000,
          1600000,
          1550000,
          1500000,
          1550000,
          1600000,
          1550000,
          1600000,
          1550000,
          1500000,
          1450000,
          1400000,
          1350000,
          1400000,
          1350000,
          1400000,
          1450000,
          1400000,
          1350000,
          1400000,
          1450000,
          1400000,
          1450000,
          1400000,
          1450000,
          1500000,
          1550000,
          1500000,
          1450000,
          1400000,
          1450000,
          1400000,
          1350000,
          1400000,
          1350000,
          1400000,
          1350000,
          1400000,
          1350000,
          1300000,
          1350000,
          1400000,
          1450000,
          1500000,
          1550000,
          1600000,
          1650000,
          1700000,
          1750000,
          1700000,
          1750000,
          1800000,
          1850000,
          1800000,
          1750000,
          1700000,
          1750000,
          1700000,
          1650000,
          1600000,
          1650000,
          1600000,
          1650000,
          1600000,
          1550000,
          1600000,
          1550000,
          1500000,
          1450000,
          1400000
         ],
         "yaxis": "y"
        },
        {
         "hovertemplate": "variable=b_balance<br>timestep=%{x}<br>value=%{y}<extra></extra>",
         "legendgroup": "b_balance",
         "line": {
          "color": "#EF553B",
          "dash": "solid"
         },
         "marker": {
          "symbol": "circle"
         },
         "mode": "lines",
         "name": "b_balance",
         "orientation": "v",
         "showlegend": true,
         "type": "scatter",
         "x": [
          0,
          1,
          2,
          3,
          4,
          5,
          6,
          7,
          8,
          9,
          10,
          11,
          12,
          13,
          14,
          15,
          16,
          17,
          18,
          19,
          20,
          21,
          22,
          23,
          24,
          25,
          26,
          27,
          28,
          29,
          30,
          31,
          32,
          33,
          34,
          35,
          36,
          37,
          38,
          39,
          40,
          41,
          42,
          43,
          44,
          45,
          46,
          47,
          48,
          49,
          50,
          51,
          52,
          53,
          54,
          55,
          56,
          57,
          58,
          59,
          60,
          61,
          62,
          63,
          64,
          65,
          66,
          67,
          68,
          69,
          70,
          71,
          72,
          73,
          74,
          75,
          76,
          77,
          78,
          79,
          80,
          81,
          82,
          83,
          84,
          85,
          86,
          87,
          88,
          89,
          90,
          91,
          92,
          93,
          94,
          95,
          96,
          97,
          98,
          99,
          100
         ],
         "xaxis": "x",
         "y": [
          100000,
          50000,
          100000,
          50000,
          0,
          0,
          0,
          50000,
          100000,
          150000,
          200000,
          250000,
          300000,
          350000,
          400000,
          450000,
          400000,
          450000,
          500000,
          450000,
          500000,
          450000,
          500000,
          550000,
          600000,
          550000,
          500000,
          450000,
          500000,
          450000,
          400000,
          350000,
          400000,
          450000,
          500000,
          450000,
          400000,
          450000,
          400000,
          450000,
          500000,
          550000,
          600000,
          650000,
          600000,
          650000,
          600000,
          550000,
          600000,
          650000,
          600000,
          550000,
          600000,
          550000,
          600000,
          550000,
          500000,
          450000,
          500000,
          550000,
          600000,
          550000,
          600000,
          650000,
          600000,
          650000,
          600000,
          650000,
          600000,
          650000,
          700000,
          650000,
          600000,
          550000,
          500000,
          450000,
          400000,
          350000,
          300000,
          250000,
          300000,
          250000,
          200000,
          150000,
          200000,
          250000,
          300000,
          250000,
          300000,
          350000,
          400000,
          350000,
          400000,
          350000,
          400000,
          450000,
          400000,
          450000,
          500000,
          550000,
          600000
         ],
         "yaxis": "y"
        }
       ],
       "layout": {
        "legend": {
         "title": {
          "text": "variable"
         },
         "tracegroupgap": 0
        },
        "margin": {
         "t": 60
        },
        "template": {
         "data": {
          "bar": [
           {
            "error_x": {
             "color": "#2a3f5f"
            },
            "error_y": {
             "color": "#2a3f5f"
            },
            "marker": {
             "line": {
              "color": "#E5ECF6",
              "width": 0.5
             },
             "pattern": {
              "fillmode": "overlay",
              "size": 10,
              "solidity": 0.2
             }
            },
            "type": "bar"
           }
          ],
          "barpolar": [
           {
            "marker": {
             "line": {
              "color": "#E5ECF6",
              "width": 0.5
             },
             "pattern": {
              "fillmode": "overlay",
              "size": 10,
              "solidity": 0.2
             }
            },
            "type": "barpolar"
           }
          ],
          "carpet": [
           {
            "aaxis": {
             "endlinecolor": "#2a3f5f",
             "gridcolor": "white",
             "linecolor": "white",
             "minorgridcolor": "white",
             "startlinecolor": "#2a3f5f"
            },
            "baxis": {
             "endlinecolor": "#2a3f5f",
             "gridcolor": "white",
             "linecolor": "white",
             "minorgridcolor": "white",
             "startlinecolor": "#2a3f5f"
            },
            "type": "carpet"
           }
          ],
          "choropleth": [
           {
            "colorbar": {
             "outlinewidth": 0,
             "ticks": ""
            },
            "type": "choropleth"
           }
          ],
          "contour": [
           {
            "colorbar": {
             "outlinewidth": 0,
             "ticks": ""
            },
            "colorscale": [
             [
              0,
              "#0d0887"
             ],
             [
              0.1111111111111111,
              "#46039f"
             ],
             [
              0.2222222222222222,
              "#7201a8"
             ],
             [
              0.3333333333333333,
              "#9c179e"
             ],
             [
              0.4444444444444444,
              "#bd3786"
             ],
             [
              0.5555555555555556,
              "#d8576b"
             ],
             [
              0.6666666666666666,
              "#ed7953"
             ],
             [
              0.7777777777777778,
              "#fb9f3a"
             ],
             [
              0.8888888888888888,
              "#fdca26"
             ],
             [
              1,
              "#f0f921"
             ]
            ],
            "type": "contour"
           }
          ],
          "contourcarpet": [
           {
            "colorbar": {
             "outlinewidth": 0,
             "ticks": ""
            },
            "type": "contourcarpet"
           }
          ],
          "heatmap": [
           {
            "colorbar": {
             "outlinewidth": 0,
             "ticks": ""
            },
            "colorscale": [
             [
              0,
              "#0d0887"
             ],
             [
              0.1111111111111111,
              "#46039f"
             ],
             [
              0.2222222222222222,
              "#7201a8"
             ],
             [
              0.3333333333333333,
              "#9c179e"
             ],
             [
              0.4444444444444444,
              "#bd3786"
             ],
             [
              0.5555555555555556,
              "#d8576b"
             ],
             [
              0.6666666666666666,
              "#ed7953"
             ],
             [
              0.7777777777777778,
              "#fb9f3a"
             ],
             [
              0.8888888888888888,
              "#fdca26"
             ],
             [
              1,
              "#f0f921"
             ]
            ],
            "type": "heatmap"
           }
          ],
          "heatmapgl": [
           {
            "colorbar": {
             "outlinewidth": 0,
             "ticks": ""
            },
            "colorscale": [
             [
              0,
              "#0d0887"
             ],
             [
              0.1111111111111111,
              "#46039f"
             ],
             [
              0.2222222222222222,
              "#7201a8"
             ],
             [
              0.3333333333333333,
              "#9c179e"
             ],
             [
              0.4444444444444444,
              "#bd3786"
             ],
             [
              0.5555555555555556,
              "#d8576b"
             ],
             [
              0.6666666666666666,
              "#ed7953"
             ],
             [
              0.7777777777777778,
              "#fb9f3a"
             ],
             [
              0.8888888888888888,
              "#fdca26"
             ],
             [
              1,
              "#f0f921"
             ]
            ],
            "type": "heatmapgl"
           }
          ],
          "histogram": [
           {
            "marker": {
             "pattern": {
              "fillmode": "overlay",
              "size": 10,
              "solidity": 0.2
             }
            },
            "type": "histogram"
           }
          ],
          "histogram2d": [
           {
            "colorbar": {
             "outlinewidth": 0,
             "ticks": ""
            },
            "colorscale": [
             [
              0,
              "#0d0887"
             ],
             [
              0.1111111111111111,
              "#46039f"
             ],
             [
              0.2222222222222222,
              "#7201a8"
             ],
             [
              0.3333333333333333,
              "#9c179e"
             ],
             [
              0.4444444444444444,
              "#bd3786"
             ],
             [
              0.5555555555555556,
              "#d8576b"
             ],
             [
              0.6666666666666666,
              "#ed7953"
             ],
             [
              0.7777777777777778,
              "#fb9f3a"
             ],
             [
              0.8888888888888888,
              "#fdca26"
             ],
             [
              1,
              "#f0f921"
             ]
            ],
            "type": "histogram2d"
           }
          ],
          "histogram2dcontour": [
           {
            "colorbar": {
             "outlinewidth": 0,
             "ticks": ""
            },
            "colorscale": [
             [
              0,
              "#0d0887"
             ],
             [
              0.1111111111111111,
              "#46039f"
             ],
             [
              0.2222222222222222,
              "#7201a8"
             ],
             [
              0.3333333333333333,
              "#9c179e"
             ],
             [
              0.4444444444444444,
              "#bd3786"
             ],
             [
              0.5555555555555556,
              "#d8576b"
             ],
             [
              0.6666666666666666,
              "#ed7953"
             ],
             [
              0.7777777777777778,
              "#fb9f3a"
             ],
             [
              0.8888888888888888,
              "#fdca26"
             ],
             [
              1,
              "#f0f921"
             ]
            ],
            "type": "histogram2dcontour"
           }
          ],
          "mesh3d": [
           {
            "colorbar": {
             "outlinewidth": 0,
             "ticks": ""
            },
            "type": "mesh3d"
           }
          ],
          "parcoords": [
           {
            "line": {
             "colorbar": {
              "outlinewidth": 0,
              "ticks": ""
             }
            },
            "type": "parcoords"
           }
          ],
          "pie": [
           {
            "automargin": true,
            "type": "pie"
           }
          ],
          "scatter": [
           {
            "fillpattern": {
             "fillmode": "overlay",
             "size": 10,
             "solidity": 0.2
            },
            "type": "scatter"
           }
          ],
          "scatter3d": [
           {
            "line": {
             "colorbar": {
              "outlinewidth": 0,
              "ticks": ""
             }
            },
            "marker": {
             "colorbar": {
              "outlinewidth": 0,
              "ticks": ""
             }
            },
            "type": "scatter3d"
           }
          ],
          "scattercarpet": [
           {
            "marker": {
             "colorbar": {
              "outlinewidth": 0,
              "ticks": ""
             }
            },
            "type": "scattercarpet"
           }
          ],
          "scattergeo": [
           {
            "marker": {
             "colorbar": {
              "outlinewidth": 0,
              "ticks": ""
             }
            },
            "type": "scattergeo"
           }
          ],
          "scattergl": [
           {
            "marker": {
             "colorbar": {
              "outlinewidth": 0,
              "ticks": ""
             }
            },
            "type": "scattergl"
           }
          ],
          "scattermapbox": [
           {
            "marker": {
             "colorbar": {
              "outlinewidth": 0,
              "ticks": ""
             }
            },
            "type": "scattermapbox"
           }
          ],
          "scatterpolar": [
           {
            "marker": {
             "colorbar": {
              "outlinewidth": 0,
              "ticks": ""
             }
            },
            "type": "scatterpolar"
           }
          ],
          "scatterpolargl": [
           {
            "marker": {
             "colorbar": {
              "outlinewidth": 0,
              "ticks": ""
             }
            },
            "type": "scatterpolargl"
           }
          ],
          "scatterternary": [
           {
            "marker": {
             "colorbar": {
              "outlinewidth": 0,
              "ticks": ""
             }
            },
            "type": "scatterternary"
           }
          ],
          "surface": [
           {
            "colorbar": {
             "outlinewidth": 0,
             "ticks": ""
            },
            "colorscale": [
             [
              0,
              "#0d0887"
             ],
             [
              0.1111111111111111,
              "#46039f"
             ],
             [
              0.2222222222222222,
              "#7201a8"
             ],
             [
              0.3333333333333333,
              "#9c179e"
             ],
             [
              0.4444444444444444,
              "#bd3786"
             ],
             [
              0.5555555555555556,
              "#d8576b"
             ],
             [
              0.6666666666666666,
              "#ed7953"
             ],
             [
              0.7777777777777778,
              "#fb9f3a"
             ],
             [
              0.8888888888888888,
              "#fdca26"
             ],
             [
              1,
              "#f0f921"
             ]
            ],
            "type": "surface"
           }
          ],
          "table": [
           {
            "cells": {
             "fill": {
              "color": "#EBF0F8"
             },
             "line": {
              "color": "white"
             }
            },
            "header": {
             "fill": {
              "color": "#C8D4E3"
             },
             "line": {
              "color": "white"
             }
            },
            "type": "table"
           }
          ]
         },
         "layout": {
          "annotationdefaults": {
           "arrowcolor": "#2a3f5f",
           "arrowhead": 0,
           "arrowwidth": 1
          },
          "autotypenumbers": "strict",
          "coloraxis": {
           "colorbar": {
            "outlinewidth": 0,
            "ticks": ""
           }
          },
          "colorscale": {
           "diverging": [
            [
             0,
             "#8e0152"
            ],
            [
             0.1,
             "#c51b7d"
            ],
            [
             0.2,
             "#de77ae"
            ],
            [
             0.3,
             "#f1b6da"
            ],
            [
             0.4,
             "#fde0ef"
            ],
            [
             0.5,
             "#f7f7f7"
            ],
            [
             0.6,
             "#e6f5d0"
            ],
            [
             0.7,
             "#b8e186"
            ],
            [
             0.8,
             "#7fbc41"
            ],
            [
             0.9,
             "#4d9221"
            ],
            [
             1,
             "#276419"
            ]
           ],
           "sequential": [
            [
             0,
             "#0d0887"
            ],
            [
             0.1111111111111111,
             "#46039f"
            ],
            [
             0.2222222222222222,
             "#7201a8"
            ],
            [
             0.3333333333333333,
             "#9c179e"
            ],
            [
             0.4444444444444444,
             "#bd3786"
            ],
            [
             0.5555555555555556,
             "#d8576b"
            ],
            [
             0.6666666666666666,
             "#ed7953"
            ],
            [
             0.7777777777777778,
             "#fb9f3a"
            ],
            [
             0.8888888888888888,
             "#fdca26"
            ],
            [
             1,
             "#f0f921"
            ]
           ],
           "sequentialminus": [
            [
             0,
             "#0d0887"
            ],
            [
             0.1111111111111111,
             "#46039f"
            ],
            [
             0.2222222222222222,
             "#7201a8"
            ],
            [
             0.3333333333333333,
             "#9c179e"
            ],
            [
             0.4444444444444444,
             "#bd3786"
            ],
            [
             0.5555555555555556,
             "#d8576b"
            ],
            [
             0.6666666666666666,
             "#ed7953"
            ],
            [
             0.7777777777777778,
             "#fb9f3a"
            ],
            [
             0.8888888888888888,
             "#fdca26"
            ],
            [
             1,
             "#f0f921"
            ]
           ]
          },
          "colorway": [
           "#636efa",
           "#EF553B",
           "#00cc96",
           "#ab63fa",
           "#FFA15A",
           "#19d3f3",
           "#FF6692",
           "#B6E880",
           "#FF97FF",
           "#FECB52"
          ],
          "font": {
           "color": "#2a3f5f"
          },
          "geo": {
           "bgcolor": "white",
           "lakecolor": "white",
           "landcolor": "#E5ECF6",
           "showlakes": true,
           "showland": true,
           "subunitcolor": "white"
          },
          "hoverlabel": {
           "align": "left"
          },
          "hovermode": "closest",
          "mapbox": {
           "style": "light"
          },
          "paper_bgcolor": "white",
          "plot_bgcolor": "#E5ECF6",
          "polar": {
           "angularaxis": {
            "gridcolor": "white",
            "linecolor": "white",
            "ticks": ""
           },
           "bgcolor": "#E5ECF6",
           "radialaxis": {
            "gridcolor": "white",
            "linecolor": "white",
            "ticks": ""
           }
          },
          "scene": {
           "xaxis": {
            "backgroundcolor": "#E5ECF6",
            "gridcolor": "white",
            "gridwidth": 2,
            "linecolor": "white",
            "showbackground": true,
            "ticks": "",
            "zerolinecolor": "white"
           },
           "yaxis": {
            "backgroundcolor": "#E5ECF6",
            "gridcolor": "white",
            "gridwidth": 2,
            "linecolor": "white",
            "showbackground": true,
            "ticks": "",
            "zerolinecolor": "white"
           },
           "zaxis": {
            "backgroundcolor": "#E5ECF6",
            "gridcolor": "white",
            "gridwidth": 2,
            "linecolor": "white",
            "showbackground": true,
            "ticks": "",
            "zerolinecolor": "white"
           }
          },
          "shapedefaults": {
           "line": {
            "color": "#2a3f5f"
           }
          },
          "ternary": {
           "aaxis": {
            "gridcolor": "white",
            "linecolor": "white",
            "ticks": ""
           },
           "baxis": {
            "gridcolor": "white",
            "linecolor": "white",
            "ticks": ""
           },
           "bgcolor": "#E5ECF6",
           "caxis": {
            "gridcolor": "white",
            "linecolor": "white",
            "ticks": ""
           }
          },
          "title": {
           "x": 0.05
          },
          "xaxis": {
           "automargin": true,
           "gridcolor": "white",
           "linecolor": "white",
           "ticks": "",
           "title": {
            "standoff": 15
           },
           "zerolinecolor": "white",
           "zerolinewidth": 2
          },
          "yaxis": {
           "automargin": true,
           "gridcolor": "white",
           "linecolor": "white",
           "ticks": "",
           "title": {
            "standoff": 15
           },
           "zerolinecolor": "white",
           "zerolinewidth": 2
          }
         }
        },
        "xaxis": {
         "anchor": "y",
         "domain": [
          0,
          1
         ],
         "title": {
          "text": "timestep"
         }
        },
        "yaxis": {
         "anchor": "x",
         "domain": [
          0,
          1
         ],
         "title": {
          "text": "value"
         }
        }
       }
      }
     },
     "metadata": {},
     "output_type": "display_data"
    }
   ],
   "source": [
    "px.line(df, x='timestep', y= ['a_balance', \n",
    "                              'b_balance'])"
   ]
  },
  {
   "cell_type": "markdown",
   "metadata": {},
   "source": [
    "## TODO :  Demonstrate use of already deployed contracts and accounts "
   ]
  },
  {
   "cell_type": "code",
   "execution_count": 44,
   "metadata": {},
   "outputs": [],
   "source": [
    "dai = Contract('0x6B175474E89094C44Da98b954EedeAC495271d0F')"
   ]
  },
  {
   "cell_type": "code",
   "execution_count": 45,
   "metadata": {},
   "outputs": [
    {
     "data": {
      "text/plain": [
       "{'_address': '0x6B175474E89094C44Da98b954EedeAC495271d0F',\n",
       " 'contract_type': <ContractType Dai>,\n",
       " 'txn_hash': None,\n",
       " '_cached_receipt': None,\n",
       " '_view_methods_': {'DOMAIN_SEPARATOR': <Dai 0x6B175474E89094C44Da98b954EedeAC495271d0F>.DOMAIN_SEPARATOR,\n",
       "  'PERMIT_TYPEHASH': <Dai 0x6B175474E89094C44Da98b954EedeAC495271d0F>.PERMIT_TYPEHASH,\n",
       "  'allowance': <Dai 0x6B175474E89094C44Da98b954EedeAC495271d0F>.allowance,\n",
       "  'balanceOf': <Dai 0x6B175474E89094C44Da98b954EedeAC495271d0F>.balanceOf,\n",
       "  'decimals': <Dai 0x6B175474E89094C44Da98b954EedeAC495271d0F>.decimals,\n",
       "  'name': <Dai 0x6B175474E89094C44Da98b954EedeAC495271d0F>.name,\n",
       "  'nonces': <Dai 0x6B175474E89094C44Da98b954EedeAC495271d0F>.nonces,\n",
       "  'symbol': <Dai 0x6B175474E89094C44Da98b954EedeAC495271d0F>.symbol,\n",
       "  'totalSupply': <Dai 0x6B175474E89094C44Da98b954EedeAC495271d0F>.totalSupply,\n",
       "  'version': <Dai 0x6B175474E89094C44Da98b954EedeAC495271d0F>.version,\n",
       "  'wards': <Dai 0x6B175474E89094C44Da98b954EedeAC495271d0F>.wards},\n",
       " '_mutable_methods_': {'approve': <Dai 0x6B175474E89094C44Da98b954EedeAC495271d0F>.approve,\n",
       "  'burn': <Dai 0x6B175474E89094C44Da98b954EedeAC495271d0F>.burn,\n",
       "  'deny': <Dai 0x6B175474E89094C44Da98b954EedeAC495271d0F>.deny,\n",
       "  'mint': <Dai 0x6B175474E89094C44Da98b954EedeAC495271d0F>.mint,\n",
       "  'move': <Dai 0x6B175474E89094C44Da98b954EedeAC495271d0F>.move,\n",
       "  'permit': <Dai 0x6B175474E89094C44Da98b954EedeAC495271d0F>.permit,\n",
       "  'pull': <Dai 0x6B175474E89094C44Da98b954EedeAC495271d0F>.pull,\n",
       "  'push': <Dai 0x6B175474E89094C44Da98b954EedeAC495271d0F>.push,\n",
       "  'rely': <Dai 0x6B175474E89094C44Da98b954EedeAC495271d0F>.rely,\n",
       "  'transfer': <Dai 0x6B175474E89094C44Da98b954EedeAC495271d0F>.transfer,\n",
       "  'transferFrom': <Dai 0x6B175474E89094C44Da98b954EedeAC495271d0F>.transferFrom},\n",
       " '_events_': {'Approval': [Approval(address indexed src, address indexed guy, uint256 wad)],\n",
       "  'LogNote': [LogNote(bytes4 indexed sig, address indexed usr, bytes32 indexed arg1, bytes32 indexed arg2, bytes data)],\n",
       "  'Transfer': [Transfer(address indexed src, address indexed dst, uint256 wad)]}}"
      ]
     },
     "execution_count": 45,
     "metadata": {},
     "output_type": "execute_result"
    }
   ],
   "source": [
    "dai.__dict__"
   ]
  },
  {
   "cell_type": "code",
   "execution_count": 50,
   "metadata": {},
   "outputs": [
    {
     "name": "stdout",
     "output_type": "stream",
     "text": [
      "INFO: Confirmed 0x5eaeae85352631f0f4c8e201bb8ba7fb4d2f1d0e54963a94b38c9d45b839a7eb (total fees paid = 46086000000000)\n"
     ]
    },
    {
     "data": {
      "text/plain": [
       "<Receipt 0x5eaeae85352631f0f4c8e201bb8ba7fb4d2f1d0e54963a94b38c9d45b839a7eb>"
      ]
     },
     "execution_count": 50,
     "metadata": {},
     "output_type": "execute_result"
    }
   ],
   "source": [
    "dai.approve(dev, 100, sender = dev)"
   ]
  },
  {
   "cell_type": "code",
   "execution_count": 52,
   "metadata": {},
   "outputs": [
    {
     "data": {
      "text/plain": [
       "{'approve': <Dai 0x6B175474E89094C44Da98b954EedeAC495271d0F>.approve,\n",
       " 'burn': <Dai 0x6B175474E89094C44Da98b954EedeAC495271d0F>.burn,\n",
       " 'deny': <Dai 0x6B175474E89094C44Da98b954EedeAC495271d0F>.deny,\n",
       " 'mint': <Dai 0x6B175474E89094C44Da98b954EedeAC495271d0F>.mint,\n",
       " 'move': <Dai 0x6B175474E89094C44Da98b954EedeAC495271d0F>.move,\n",
       " 'permit': <Dai 0x6B175474E89094C44Da98b954EedeAC495271d0F>.permit,\n",
       " 'pull': <Dai 0x6B175474E89094C44Da98b954EedeAC495271d0F>.pull,\n",
       " 'push': <Dai 0x6B175474E89094C44Da98b954EedeAC495271d0F>.push,\n",
       " 'rely': <Dai 0x6B175474E89094C44Da98b954EedeAC495271d0F>.rely,\n",
       " 'transfer': <Dai 0x6B175474E89094C44Da98b954EedeAC495271d0F>.transfer,\n",
       " 'transferFrom': <Dai 0x6B175474E89094C44Da98b954EedeAC495271d0F>.transferFrom}"
      ]
     },
     "execution_count": 52,
     "metadata": {},
     "output_type": "execute_result"
    }
   ],
   "source": [
    "dai._mutable_methods_"
   ]
  },
  {
   "cell_type": "code",
   "execution_count": 61,
   "metadata": {},
   "outputs": [
    {
     "data": {
      "text/plain": [
       "0"
      ]
     },
     "execution_count": 61,
     "metadata": {},
     "output_type": "execute_result"
    }
   ],
   "source": [
    "dai.balance"
   ]
  },
  {
   "cell_type": "code",
   "execution_count": 62,
   "metadata": {},
   "outputs": [
    {
     "data": {
      "text/plain": [
       "{'DOMAIN_SEPARATOR': <Dai 0x6B175474E89094C44Da98b954EedeAC495271d0F>.DOMAIN_SEPARATOR,\n",
       " 'PERMIT_TYPEHASH': <Dai 0x6B175474E89094C44Da98b954EedeAC495271d0F>.PERMIT_TYPEHASH,\n",
       " 'allowance': <Dai 0x6B175474E89094C44Da98b954EedeAC495271d0F>.allowance,\n",
       " 'balanceOf': <Dai 0x6B175474E89094C44Da98b954EedeAC495271d0F>.balanceOf,\n",
       " 'decimals': <Dai 0x6B175474E89094C44Da98b954EedeAC495271d0F>.decimals,\n",
       " 'name': <Dai 0x6B175474E89094C44Da98b954EedeAC495271d0F>.name,\n",
       " 'nonces': <Dai 0x6B175474E89094C44Da98b954EedeAC495271d0F>.nonces,\n",
       " 'symbol': <Dai 0x6B175474E89094C44Da98b954EedeAC495271d0F>.symbol,\n",
       " 'totalSupply': <Dai 0x6B175474E89094C44Da98b954EedeAC495271d0F>.totalSupply,\n",
       " 'version': <Dai 0x6B175474E89094C44Da98b954EedeAC495271d0F>.version,\n",
       " 'wards': <Dai 0x6B175474E89094C44Da98b954EedeAC495271d0F>.wards}"
      ]
     },
     "execution_count": 62,
     "metadata": {},
     "output_type": "execute_result"
    }
   ],
   "source": [
    "dai._view_methods_"
   ]
  },
  {
   "cell_type": "code",
   "execution_count": 72,
   "metadata": {},
   "outputs": [
    {
     "data": {
      "text/plain": [
       "2112188250000000000"
      ]
     },
     "execution_count": 72,
     "metadata": {},
     "output_type": "execute_result"
    }
   ],
   "source": [
    "dai.balanceOf(whale)"
   ]
  },
  {
   "cell_type": "code",
   "execution_count": 70,
   "metadata": {},
   "outputs": [],
   "source": [
    "whale = accounts[\"0xab5801a7d398351b8be11c439e05c5b3259aec9b\"]"
   ]
  },
  {
   "cell_type": "code",
   "execution_count": 71,
   "metadata": {},
   "outputs": [
    {
     "data": {
      "text/plain": [
       "73224055451592132115"
      ]
     },
     "execution_count": 71,
     "metadata": {},
     "output_type": "execute_result"
    }
   ],
   "source": [
    "whale.balance"
   ]
  },
  {
   "cell_type": "code",
   "execution_count": 77,
   "metadata": {},
   "outputs": [
    {
     "data": {
      "text/plain": [
       "<Receipt 0xb25b1193e07886361aa4fd5efb0ae92d1304b4f41542bb7e1253e53a18e4f1f8>"
      ]
     },
     "execution_count": 77,
     "metadata": {},
     "output_type": "execute_result"
    }
   ],
   "source": [
    "dai.transfer(dev, 10000, sender = whale)"
   ]
  },
  {
   "cell_type": "code",
   "execution_count": 80,
   "metadata": {},
   "outputs": [
    {
     "data": {
      "text/plain": [
       "10000"
      ]
     },
     "execution_count": 80,
     "metadata": {},
     "output_type": "execute_result"
    }
   ],
   "source": [
    "dai.balanceOf(dev)"
   ]
  }
 ],
 "metadata": {
  "kernelspec": {
   "display_name": "venv",
   "language": "python",
   "name": "python3"
  },
  "language_info": {
   "codemirror_mode": {
    "name": "ipython",
    "version": 3
   },
   "file_extension": ".py",
   "mimetype": "text/x-python",
   "name": "python",
   "nbconvert_exporter": "python",
   "pygments_lexer": "ipython3",
   "version": "3.9.6"
  }
 },
 "nbformat": 4,
 "nbformat_minor": 2
}
