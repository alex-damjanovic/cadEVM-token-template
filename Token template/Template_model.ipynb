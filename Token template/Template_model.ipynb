{
 "cells": [
  {
   "cell_type": "markdown",
   "metadata": {},
   "source": [
    "# Simple model simulating trading of Token between two agents"
   ]
  },
  {
   "cell_type": "code",
   "execution_count": null,
   "metadata": {},
   "outputs": [],
   "source": [
    "import sys\n",
    "sys.path.append(\"..\")\n",
    "import pandas as pd\n",
    "import plotly.express as px\n",
    "from radcad import Model, Simulation, Experiment\n",
    "from radcad.engine import Engine, Backend\n",
    "import random\n",
    "from cadEVM.connector  import connect_fork, connect_mainnet\n",
    "from ape import config, networks, accounts, project, chain, Contract"
   ]
  },
  {
   "cell_type": "code",
   "execution_count": null,
   "metadata": {},
   "outputs": [],
   "source": [
    "%env WEB3_ALCHEMY_PROJECT_ID = YOUR ALCHEMY KEY HERE\n"
   ]
  },
  {
   "cell_type": "code",
   "execution_count": 3,
   "metadata": {},
   "outputs": [],
   "source": [
    "# to compile contracts\n",
    "!ape compile"
   ]
  },
  {
   "cell_type": "code",
   "execution_count": 4,
   "metadata": {},
   "outputs": [
    {
     "name": "stdout",
     "output_type": "stream",
     "text": [
      "INFO: Starting 'Hardhat node' process.\n"
     ]
    },
    {
     "data": {
      "text/plain": [
       "<hardhat chain_id=31337>"
      ]
     },
     "execution_count": 4,
     "metadata": {},
     "output_type": "execute_result"
    }
   ],
   "source": [
    "connect_fork()"
   ]
  },
  {
   "cell_type": "code",
   "execution_count": 5,
   "metadata": {},
   "outputs": [],
   "source": [
    "dev = accounts.test_accounts[0]\n",
    "reciever_1 = accounts.test_accounts[1]"
   ]
  },
  {
   "cell_type": "code",
   "execution_count": 8,
   "metadata": {},
   "outputs": [
    {
     "name": "stdout",
     "output_type": "stream",
     "text": [
      "WARNING: There are no token lists installed\n",
      "\tValueError: Default token list has not been set.\n",
      "\t(Use `--verbosity DEBUG` to see full stack-trace)\n"
     ]
    },
    {
     "name": "stdout",
     "output_type": "stream",
     "text": [
      "INFO: Confirmed 0x2ef5561c8834d1c13f4e92a1c8561a60d45eafdb622190b43b7163adddfe8477 (total fees paid = 521433000000000)\n",
      "SUCCESS: Contract 'Token' deployed to: \u001b[1m0x274b028b03A250cA03644E6c578D81f019eE1323\u001b[0m\n"
     ]
    }
   ],
   "source": [
    "contract = project.Token.deploy(\"Test\", \"TST\", 18, 5000000, sender = dev)"
   ]
  },
  {
   "cell_type": "code",
   "execution_count": 9,
   "metadata": {},
   "outputs": [
    {
     "data": {
      "text/plain": [
       "Block(num_transactions=1, hash=HexBytes('0x748f61717beab17bc831886d413911e5391dbd00c0818fc32e35c123cec20b3c'), number=18551066, parent_hash=HexBytes('0x2571f8126b0287d8eb504d381ac3f66e002657fc41761b0a541d58361a6c9d8d'), size=3194, timestamp=1699734444, gas_limit=30000000, gas_used=521433, base_fee=0, difficulty=0, total_difficulty=58750003716598352816469)"
      ]
     },
     "execution_count": 9,
     "metadata": {},
     "output_type": "execute_result"
    }
   ],
   "source": [
    "chain.provider.get_block(\"latest\")"
   ]
  },
  {
   "cell_type": "code",
   "execution_count": 12,
   "metadata": {},
   "outputs": [
    {
     "name": "stdout",
     "output_type": "stream",
     "text": [
      "INFO: Confirmed 0xf074247ad157be6cc296926885a7f8e81a73610a3b855af13c490816d41b6088 (total fees paid = 51634000000000)\n"
     ]
    },
    {
     "data": {
      "text/plain": [
       "<Receipt 0xf074247ad157be6cc296926885a7f8e81a73610a3b855af13c490816d41b6088>"
      ]
     },
     "execution_count": 12,
     "metadata": {},
     "output_type": "execute_result"
    }
   ],
   "source": [
    "contract.transfer( accounts.test_accounts[1] , 100000, sender = dev)"
   ]
  },
  {
   "cell_type": "code",
   "execution_count": 13,
   "metadata": {},
   "outputs": [
    {
     "data": {
      "text/plain": [
       "{'a_agent': <TestAccount 0x1e59ce931B4CFea3fe4B875411e280e173cB7A9C>,\n",
       " 'b_agent': <TestAccount 0xc89D42189f0450C2b2c3c61f58Ec5d628176A1E7>}"
      ]
     },
     "execution_count": 13,
     "metadata": {},
     "output_type": "execute_result"
    }
   ],
   "source": [
    "params = {\n",
    "    'a_agent': dev,\n",
    "    'b_agent': reciever_1,\n",
    "}\n",
    "params"
   ]
  },
  {
   "cell_type": "code",
   "execution_count": 14,
   "metadata": {},
   "outputs": [
    {
     "data": {
      "text/plain": [
       "{'a_balance': 4900000, 'b_balance': 100000}"
      ]
     },
     "execution_count": 14,
     "metadata": {},
     "output_type": "execute_result"
    }
   ],
   "source": [
    "initial_state =  {\n",
    "      \n",
    "     'a_balance': contract.balanceOf(params['a_agent']),\n",
    "      'b_balance': contract.balanceOf(params['b_agent'])\n",
    "}\n",
    "initial_state"
   ]
  },
  {
   "cell_type": "code",
   "execution_count": 15,
   "metadata": {},
   "outputs": [],
   "source": [
    "def p_trade(params, substep, state_history, prev_state, **kwargs):\n",
    "    global contract\n",
    "   \n",
    "    if random.choice([True, False]):\n",
    "        sender_address = params['a_agent']\n",
    "        recipient_address = params['b_agent']\n",
    "    else:\n",
    "        sender_address = params['b_agent']\n",
    "        recipient_address = params['a_agent']\n",
    "\n",
    "    try:\n",
    "        contract.transfer(recipient_address , 500000, sender = sender_address)\n",
    "    except:\n",
    "        contract.transfer(recipient_address , 500000, sender = dev)\n",
    "\n",
    "    sent = \"Sent\"\n",
    "\n",
    "    return {'sent_signal': sent}"
   ]
  },
  {
   "cell_type": "code",
   "execution_count": 16,
   "metadata": {},
   "outputs": [],
   "source": [
    "def s_update_balance_a(params, substep, state_history, prev_state, policy_input, **kwargs):\n",
    "    balance = contract.balanceOf(params['a_agent'])\n",
    "    return 'a_balance', balance \n",
    "\n",
    "def s_update_balance_b(params, substep, state_history, prev_state, policy_input, **kwargs):\n",
    "    balance = contract.balanceOf(params['b_agent'])\n",
    "    return 'b_balance', balance \n"
   ]
  },
  {
   "cell_type": "code",
   "execution_count": 17,
   "metadata": {},
   "outputs": [],
   "source": [
    "state_update_blocks = [\n",
    "    {\n",
    "        'policies': {\n",
    "            'trade': p_trade,\n",
    "        },\n",
    "        'variables': {\n",
    "            'a_balance': s_update_balance_a,\n",
    "            'b_balance': s_update_balance_b,\n",
    "        }\n",
    "    }\n",
    "\n",
    "]"
   ]
  },
  {
   "cell_type": "code",
   "execution_count": 20,
   "metadata": {},
   "outputs": [],
   "source": [
    "TIMESTEPS = 10\n",
    "RUNS = 2\n",
    "model = Model(initial_state=initial_state, state_update_blocks=state_update_blocks, params=params)\n",
    "simulation = Simulation(model=model, timesteps=TIMESTEPS, runs=RUNS)\n",
    "experiment = Experiment(simulation)\n",
    "\n",
    "\n",
    "\n",
    "# Select the Pathos backend to avoid issues with multiprocessing and Jupyter Notebooks\n",
    "experiment.engine = Engine(backend=Backend.PATHOS)\n",
    "\n",
    "result = experiment.run()"
   ]
  },
  {
   "cell_type": "code",
   "execution_count": 21,
   "metadata": {},
   "outputs": [
    {
     "data": {
      "text/html": [
       "<div>\n",
       "<style scoped>\n",
       "    .dataframe tbody tr th:only-of-type {\n",
       "        vertical-align: middle;\n",
       "    }\n",
       "\n",
       "    .dataframe tbody tr th {\n",
       "        vertical-align: top;\n",
       "    }\n",
       "\n",
       "    .dataframe thead th {\n",
       "        text-align: right;\n",
       "    }\n",
       "</style>\n",
       "<table border=\"1\" class=\"dataframe\">\n",
       "  <thead>\n",
       "    <tr style=\"text-align: right;\">\n",
       "      <th></th>\n",
       "      <th>a_balance</th>\n",
       "      <th>b_balance</th>\n",
       "      <th>simulation</th>\n",
       "      <th>subset</th>\n",
       "      <th>run</th>\n",
       "      <th>substep</th>\n",
       "      <th>timestep</th>\n",
       "    </tr>\n",
       "  </thead>\n",
       "  <tbody>\n",
       "    <tr>\n",
       "      <th>0</th>\n",
       "      <td>4900000</td>\n",
       "      <td>100000</td>\n",
       "      <td>0</td>\n",
       "      <td>0</td>\n",
       "      <td>1</td>\n",
       "      <td>0</td>\n",
       "      <td>0</td>\n",
       "    </tr>\n",
       "    <tr>\n",
       "      <th>1</th>\n",
       "      <td>4900000</td>\n",
       "      <td>100000</td>\n",
       "      <td>0</td>\n",
       "      <td>0</td>\n",
       "      <td>1</td>\n",
       "      <td>1</td>\n",
       "      <td>1</td>\n",
       "    </tr>\n",
       "    <tr>\n",
       "      <th>2</th>\n",
       "      <td>4400000</td>\n",
       "      <td>600000</td>\n",
       "      <td>0</td>\n",
       "      <td>0</td>\n",
       "      <td>1</td>\n",
       "      <td>1</td>\n",
       "      <td>2</td>\n",
       "    </tr>\n",
       "    <tr>\n",
       "      <th>3</th>\n",
       "      <td>4900000</td>\n",
       "      <td>100000</td>\n",
       "      <td>0</td>\n",
       "      <td>0</td>\n",
       "      <td>1</td>\n",
       "      <td>1</td>\n",
       "      <td>3</td>\n",
       "    </tr>\n",
       "    <tr>\n",
       "      <th>4</th>\n",
       "      <td>4400000</td>\n",
       "      <td>600000</td>\n",
       "      <td>0</td>\n",
       "      <td>0</td>\n",
       "      <td>1</td>\n",
       "      <td>1</td>\n",
       "      <td>4</td>\n",
       "    </tr>\n",
       "    <tr>\n",
       "      <th>5</th>\n",
       "      <td>3900000</td>\n",
       "      <td>1100000</td>\n",
       "      <td>0</td>\n",
       "      <td>0</td>\n",
       "      <td>1</td>\n",
       "      <td>1</td>\n",
       "      <td>5</td>\n",
       "    </tr>\n",
       "    <tr>\n",
       "      <th>6</th>\n",
       "      <td>2900000</td>\n",
       "      <td>2100000</td>\n",
       "      <td>0</td>\n",
       "      <td>0</td>\n",
       "      <td>1</td>\n",
       "      <td>1</td>\n",
       "      <td>6</td>\n",
       "    </tr>\n",
       "    <tr>\n",
       "      <th>7</th>\n",
       "      <td>2900000</td>\n",
       "      <td>2100000</td>\n",
       "      <td>0</td>\n",
       "      <td>0</td>\n",
       "      <td>1</td>\n",
       "      <td>1</td>\n",
       "      <td>7</td>\n",
       "    </tr>\n",
       "    <tr>\n",
       "      <th>8</th>\n",
       "      <td>3900000</td>\n",
       "      <td>1100000</td>\n",
       "      <td>0</td>\n",
       "      <td>0</td>\n",
       "      <td>1</td>\n",
       "      <td>1</td>\n",
       "      <td>8</td>\n",
       "    </tr>\n",
       "    <tr>\n",
       "      <th>9</th>\n",
       "      <td>2900000</td>\n",
       "      <td>2100000</td>\n",
       "      <td>0</td>\n",
       "      <td>0</td>\n",
       "      <td>1</td>\n",
       "      <td>1</td>\n",
       "      <td>9</td>\n",
       "    </tr>\n",
       "    <tr>\n",
       "      <th>10</th>\n",
       "      <td>1900000</td>\n",
       "      <td>3100000</td>\n",
       "      <td>0</td>\n",
       "      <td>0</td>\n",
       "      <td>1</td>\n",
       "      <td>1</td>\n",
       "      <td>10</td>\n",
       "    </tr>\n",
       "    <tr>\n",
       "      <th>11</th>\n",
       "      <td>4900000</td>\n",
       "      <td>100000</td>\n",
       "      <td>0</td>\n",
       "      <td>0</td>\n",
       "      <td>2</td>\n",
       "      <td>0</td>\n",
       "      <td>0</td>\n",
       "    </tr>\n",
       "    <tr>\n",
       "      <th>12</th>\n",
       "      <td>4900000</td>\n",
       "      <td>100000</td>\n",
       "      <td>0</td>\n",
       "      <td>0</td>\n",
       "      <td>2</td>\n",
       "      <td>1</td>\n",
       "      <td>1</td>\n",
       "    </tr>\n",
       "    <tr>\n",
       "      <th>13</th>\n",
       "      <td>4900000</td>\n",
       "      <td>100000</td>\n",
       "      <td>0</td>\n",
       "      <td>0</td>\n",
       "      <td>2</td>\n",
       "      <td>1</td>\n",
       "      <td>2</td>\n",
       "    </tr>\n",
       "    <tr>\n",
       "      <th>14</th>\n",
       "      <td>4400000</td>\n",
       "      <td>600000</td>\n",
       "      <td>0</td>\n",
       "      <td>0</td>\n",
       "      <td>2</td>\n",
       "      <td>1</td>\n",
       "      <td>3</td>\n",
       "    </tr>\n",
       "    <tr>\n",
       "      <th>15</th>\n",
       "      <td>4900000</td>\n",
       "      <td>100000</td>\n",
       "      <td>0</td>\n",
       "      <td>0</td>\n",
       "      <td>2</td>\n",
       "      <td>1</td>\n",
       "      <td>4</td>\n",
       "    </tr>\n",
       "    <tr>\n",
       "      <th>16</th>\n",
       "      <td>4400000</td>\n",
       "      <td>600000</td>\n",
       "      <td>0</td>\n",
       "      <td>0</td>\n",
       "      <td>2</td>\n",
       "      <td>1</td>\n",
       "      <td>5</td>\n",
       "    </tr>\n",
       "    <tr>\n",
       "      <th>17</th>\n",
       "      <td>3400000</td>\n",
       "      <td>1600000</td>\n",
       "      <td>0</td>\n",
       "      <td>0</td>\n",
       "      <td>2</td>\n",
       "      <td>1</td>\n",
       "      <td>6</td>\n",
       "    </tr>\n",
       "    <tr>\n",
       "      <th>18</th>\n",
       "      <td>2400000</td>\n",
       "      <td>2600000</td>\n",
       "      <td>0</td>\n",
       "      <td>0</td>\n",
       "      <td>2</td>\n",
       "      <td>1</td>\n",
       "      <td>7</td>\n",
       "    </tr>\n",
       "    <tr>\n",
       "      <th>19</th>\n",
       "      <td>3400000</td>\n",
       "      <td>1600000</td>\n",
       "      <td>0</td>\n",
       "      <td>0</td>\n",
       "      <td>2</td>\n",
       "      <td>1</td>\n",
       "      <td>8</td>\n",
       "    </tr>\n",
       "    <tr>\n",
       "      <th>20</th>\n",
       "      <td>3400000</td>\n",
       "      <td>1600000</td>\n",
       "      <td>0</td>\n",
       "      <td>0</td>\n",
       "      <td>2</td>\n",
       "      <td>1</td>\n",
       "      <td>9</td>\n",
       "    </tr>\n",
       "    <tr>\n",
       "      <th>21</th>\n",
       "      <td>2400000</td>\n",
       "      <td>2600000</td>\n",
       "      <td>0</td>\n",
       "      <td>0</td>\n",
       "      <td>2</td>\n",
       "      <td>1</td>\n",
       "      <td>10</td>\n",
       "    </tr>\n",
       "  </tbody>\n",
       "</table>\n",
       "</div>"
      ],
      "text/plain": [
       "    a_balance  b_balance  simulation  subset  run  substep  timestep\n",
       "0     4900000     100000           0       0    1        0         0\n",
       "1     4900000     100000           0       0    1        1         1\n",
       "2     4400000     600000           0       0    1        1         2\n",
       "3     4900000     100000           0       0    1        1         3\n",
       "4     4400000     600000           0       0    1        1         4\n",
       "5     3900000    1100000           0       0    1        1         5\n",
       "6     2900000    2100000           0       0    1        1         6\n",
       "7     2900000    2100000           0       0    1        1         7\n",
       "8     3900000    1100000           0       0    1        1         8\n",
       "9     2900000    2100000           0       0    1        1         9\n",
       "10    1900000    3100000           0       0    1        1        10\n",
       "11    4900000     100000           0       0    2        0         0\n",
       "12    4900000     100000           0       0    2        1         1\n",
       "13    4900000     100000           0       0    2        1         2\n",
       "14    4400000     600000           0       0    2        1         3\n",
       "15    4900000     100000           0       0    2        1         4\n",
       "16    4400000     600000           0       0    2        1         5\n",
       "17    3400000    1600000           0       0    2        1         6\n",
       "18    2400000    2600000           0       0    2        1         7\n",
       "19    3400000    1600000           0       0    2        1         8\n",
       "20    3400000    1600000           0       0    2        1         9\n",
       "21    2400000    2600000           0       0    2        1        10"
      ]
     },
     "execution_count": 21,
     "metadata": {},
     "output_type": "execute_result"
    }
   ],
   "source": [
    "df = pd.DataFrame(result)\n",
    "df"
   ]
  },
  {
   "cell_type": "code",
   "execution_count": null,
   "metadata": {},
   "outputs": [],
   "source": [
    "px.line(df, x='timestep', y= ['a_balance', \n",
    "                              'b_balance'], color='run', title= 'Tokens traded between agents over 2 runs')"
   ]
  },
  {
   "cell_type": "markdown",
   "metadata": {},
   "source": [
    "## Demonstrating use of already deployed contracts and accounts "
   ]
  },
  {
   "cell_type": "code",
   "execution_count": 137,
   "metadata": {},
   "outputs": [],
   "source": [
    "dai = Contract('0x6B175474E89094C44Da98b954EedeAC495271d0F')"
   ]
  },
  {
   "cell_type": "code",
   "execution_count": 138,
   "metadata": {},
   "outputs": [
    {
     "name": "stdout",
     "output_type": "stream",
     "text": [
      "INFO: Confirmed 0xc831b63a6bd01b7ede31b8fbb718739eaacb23182f6b2dd110a3b944d59fda06 (total fees paid = 26186000000000)\n"
     ]
    },
    {
     "data": {
      "text/plain": [
       "<Receipt 0xc831b63a6bd01b7ede31b8fbb718739eaacb23182f6b2dd110a3b944d59fda06>"
      ]
     },
     "execution_count": 138,
     "metadata": {},
     "output_type": "execute_result"
    }
   ],
   "source": [
    "dai.approve(dev, 100, sender = dev)"
   ]
  },
  {
   "cell_type": "code",
   "execution_count": 139,
   "metadata": {},
   "outputs": [
    {
     "data": {
      "text/plain": [
       "{'approve': <Dai 0x6B175474E89094C44Da98b954EedeAC495271d0F>.approve,\n",
       " 'burn': <Dai 0x6B175474E89094C44Da98b954EedeAC495271d0F>.burn,\n",
       " 'deny': <Dai 0x6B175474E89094C44Da98b954EedeAC495271d0F>.deny,\n",
       " 'mint': <Dai 0x6B175474E89094C44Da98b954EedeAC495271d0F>.mint,\n",
       " 'move': <Dai 0x6B175474E89094C44Da98b954EedeAC495271d0F>.move,\n",
       " 'permit': <Dai 0x6B175474E89094C44Da98b954EedeAC495271d0F>.permit,\n",
       " 'pull': <Dai 0x6B175474E89094C44Da98b954EedeAC495271d0F>.pull,\n",
       " 'push': <Dai 0x6B175474E89094C44Da98b954EedeAC495271d0F>.push,\n",
       " 'rely': <Dai 0x6B175474E89094C44Da98b954EedeAC495271d0F>.rely,\n",
       " 'transfer': <Dai 0x6B175474E89094C44Da98b954EedeAC495271d0F>.transfer,\n",
       " 'transferFrom': <Dai 0x6B175474E89094C44Da98b954EedeAC495271d0F>.transferFrom}"
      ]
     },
     "execution_count": 139,
     "metadata": {},
     "output_type": "execute_result"
    }
   ],
   "source": [
    "dai._mutable_methods_"
   ]
  },
  {
   "cell_type": "code",
   "execution_count": 140,
   "metadata": {},
   "outputs": [
    {
     "data": {
      "text/plain": [
       "{'DOMAIN_SEPARATOR': <Dai 0x6B175474E89094C44Da98b954EedeAC495271d0F>.DOMAIN_SEPARATOR,\n",
       " 'PERMIT_TYPEHASH': <Dai 0x6B175474E89094C44Da98b954EedeAC495271d0F>.PERMIT_TYPEHASH,\n",
       " 'allowance': <Dai 0x6B175474E89094C44Da98b954EedeAC495271d0F>.allowance,\n",
       " 'balanceOf': <Dai 0x6B175474E89094C44Da98b954EedeAC495271d0F>.balanceOf,\n",
       " 'decimals': <Dai 0x6B175474E89094C44Da98b954EedeAC495271d0F>.decimals,\n",
       " 'name': <Dai 0x6B175474E89094C44Da98b954EedeAC495271d0F>.name,\n",
       " 'nonces': <Dai 0x6B175474E89094C44Da98b954EedeAC495271d0F>.nonces,\n",
       " 'symbol': <Dai 0x6B175474E89094C44Da98b954EedeAC495271d0F>.symbol,\n",
       " 'totalSupply': <Dai 0x6B175474E89094C44Da98b954EedeAC495271d0F>.totalSupply,\n",
       " 'version': <Dai 0x6B175474E89094C44Da98b954EedeAC495271d0F>.version,\n",
       " 'wards': <Dai 0x6B175474E89094C44Da98b954EedeAC495271d0F>.wards}"
      ]
     },
     "execution_count": 140,
     "metadata": {},
     "output_type": "execute_result"
    }
   ],
   "source": [
    "dai._view_methods_"
   ]
  },
  {
   "cell_type": "code",
   "execution_count": 141,
   "metadata": {},
   "outputs": [],
   "source": [
    "whale = accounts[\"0xab5801a7d398351b8be11c439e05c5b3259aec9b\"]"
   ]
  },
  {
   "cell_type": "code",
   "execution_count": 142,
   "metadata": {},
   "outputs": [
    {
     "data": {
      "text/plain": [
       "2112188229596500000"
      ]
     },
     "execution_count": 142,
     "metadata": {},
     "output_type": "execute_result"
    }
   ],
   "source": [
    "dai.balanceOf(whale)"
   ]
  },
  {
   "cell_type": "code",
   "execution_count": 143,
   "metadata": {},
   "outputs": [
    {
     "data": {
      "text/plain": [
       "<Receipt 0xcc56d213b8ed077a4d2f05ea736dc9fdbd3635cbd3f5a27007a3c9a46f043640>"
      ]
     },
     "execution_count": 143,
     "metadata": {},
     "output_type": "execute_result"
    }
   ],
   "source": [
    "dai.transfer(dev, 100000000, sender = whale)"
   ]
  },
  {
   "cell_type": "code",
   "execution_count": 144,
   "metadata": {},
   "outputs": [
    {
     "data": {
      "text/plain": [
       "20503500000"
      ]
     },
     "execution_count": 144,
     "metadata": {},
     "output_type": "execute_result"
    }
   ],
   "source": [
    "dai.balanceOf(dev)"
   ]
  },
  {
   "cell_type": "code",
   "execution_count": 145,
   "metadata": {},
   "outputs": [
    {
     "data": {
      "text/plain": [
       "{'a_agent': <TestAccount 0x1e59ce931B4CFea3fe4B875411e280e173cB7A9C>,\n",
       " 'b_agent': <ImpersonatedAccount 0xAb5801a7D398351b8bE11C439e05C5B3259aeC9B>}"
      ]
     },
     "execution_count": 145,
     "metadata": {},
     "output_type": "execute_result"
    }
   ],
   "source": [
    "params = {\n",
    "    'a_agent': dev,\n",
    "    'b_agent': whale,\n",
    "}\n",
    "params"
   ]
  },
  {
   "cell_type": "code",
   "execution_count": 146,
   "metadata": {},
   "outputs": [
    {
     "data": {
      "text/plain": [
       "{'a_balance': 20503500000, 'b_balance': 2112188229496500000}"
      ]
     },
     "execution_count": 146,
     "metadata": {},
     "output_type": "execute_result"
    }
   ],
   "source": [
    "initial_state =  {\n",
    "      \n",
    "     'a_balance': dai.balanceOf(params['a_agent']),\n",
    "      'b_balance': dai.balanceOf(params['b_agent'])\n",
    "}\n",
    "initial_state"
   ]
  },
  {
   "cell_type": "code",
   "execution_count": 147,
   "metadata": {},
   "outputs": [
    {
     "data": {
      "text/plain": [
       "<Dai 0x6B175474E89094C44Da98b954EedeAC495271d0F>.symbol"
      ]
     },
     "execution_count": 147,
     "metadata": {},
     "output_type": "execute_result"
    }
   ],
   "source": [
    "dai.symbol"
   ]
  },
  {
   "cell_type": "code",
   "execution_count": 148,
   "metadata": {},
   "outputs": [],
   "source": [
    "def p_trade(params, substep, state_history, prev_state, **kwargs):\n",
    "    dai = Contract('0x6B175474E89094C44Da98b954EedeAC495271d0F')\n",
    "   \n",
    "    if random.choice([True, False]):\n",
    "        sender_address = params['a_agent']\n",
    "        recipient_address = params['b_agent']\n",
    "    else:\n",
    "        sender_address = params['b_agent']\n",
    "        recipient_address = params['a_agent']\n",
    "\n",
    "    try:\n",
    "        \n",
    "        dai.transfer(recipient_address , 5000000000, sender = sender_address)\n",
    "    except:\n",
    "        \n",
    "        dai.transfer(recipient_address , 5000000000, sender = whale)\n",
    "\n",
    "    sent = \"Sent\"\n",
    "\n",
    "    return {'sent_signal': sent}"
   ]
  },
  {
   "cell_type": "code",
   "execution_count": 149,
   "metadata": {},
   "outputs": [],
   "source": [
    "def s_update_balance_a(params, substep, state_history, prev_state, policy_input, **kwargs):\n",
    "    dai = Contract('0x6B175474E89094C44Da98b954EedeAC495271d0F')\n",
    "    balance = dai.balanceOf(params['a_agent'])\n",
    "    return 'a_balance', balance \n",
    "\n",
    "def s_update_balance_b(params, substep, state_history, prev_state, policy_input, **kwargs):\n",
    "    dai = Contract('0x6B175474E89094C44Da98b954EedeAC495271d0F')\n",
    "    balance = dai.balanceOf(params['b_agent'])\n",
    "    return 'b_balance', balance \n"
   ]
  },
  {
   "cell_type": "code",
   "execution_count": 150,
   "metadata": {},
   "outputs": [],
   "source": [
    "state_update_blocks = [\n",
    "    {\n",
    "        'policies': {\n",
    "            'trade': p_trade,\n",
    "        },\n",
    "        'variables': {\n",
    "            'a_balance': s_update_balance_a,\n",
    "            'b_balance': s_update_balance_b,\n",
    "        }\n",
    "    }\n",
    "\n",
    "]"
   ]
  },
  {
   "cell_type": "code",
   "execution_count": 154,
   "metadata": {},
   "outputs": [
    {
     "name": "stdout",
     "output_type": "stream",
     "text": [
      "INFO: Confirmed 0x9ecf7065a06f168bd736fc30bf5e9b5ccf91e7253a80683e4b26f0a405834db4 (total fees paid = 34682000000000)\n",
      "INFO: Confirmed 0xe2dad61dd19e503f47a25cb1b358b28f55572cc9274a68d2210208c765efc9c0 (total fees paid = 34682000000000)\n",
      "INFO: Confirmed 0x518ee73b78c34c77e444e60c1f84588cff190d2bcf44adbc96414067ba586fda (total fees paid = 34682000000000)\n",
      "INFO: Confirmed 0x1554762bdb4c802ebb256c95fab1f743ed089590efe8775161fff938e4c9d270 (total fees paid = 34682000000000)\n",
      "INFO: Confirmed 0xd94babc2a11052f12b1d338bffd352024e628fdd3103a9107a63328f23a041ad (total fees paid = 34682000000000)\n",
      "INFO: Confirmed 0xbfaf460b3726b5ec96f1ddb183f4b1e842deac00b589fdfb9fdf69cf16e7dde2 (total fees paid = 34682000000000)\n",
      "INFO: Confirmed 0xabfd9c8a7bf3c07cca63e66addf0ae69ae116c7b49d8c2bd1c573b2616216ea3 (total fees paid = 34682000000000)\n",
      "INFO: Confirmed 0x985e497b95f82ecb74fe95736c21e841050e67e38b15387a2af36c8886f4bc1a (total fees paid = 34682000000000)\n",
      "INFO: Confirmed 0xb5664d537ad193ad1ad3c98b93f55854e9d3650e88f59f65602c8d39ee67b96e (total fees paid = 34682000000000)\n"
     ]
    }
   ],
   "source": [
    "TIMESTEPS = 10\n",
    "RUNS = 2\n",
    "model = Model(initial_state=initial_state, state_update_blocks=state_update_blocks, params=params)\n",
    "simulation = Simulation(model=model, timesteps=TIMESTEPS, runs=RUNS)\n",
    "experiment = Experiment(simulation)\n",
    "\n",
    "\n",
    "\n",
    "# Select the Pathos backend to avoid issues with multiprocessing and Jupyter Notebooks\n",
    "experiment.engine = Engine(backend=Backend.PATHOS)\n",
    "\n",
    "result = experiment.run()"
   ]
  },
  {
   "cell_type": "code",
   "execution_count": 155,
   "metadata": {},
   "outputs": [
    {
     "data": {
      "text/html": [
       "<div>\n",
       "<style scoped>\n",
       "    .dataframe tbody tr th:only-of-type {\n",
       "        vertical-align: middle;\n",
       "    }\n",
       "\n",
       "    .dataframe tbody tr th {\n",
       "        vertical-align: top;\n",
       "    }\n",
       "\n",
       "    .dataframe thead th {\n",
       "        text-align: right;\n",
       "    }\n",
       "</style>\n",
       "<table border=\"1\" class=\"dataframe\">\n",
       "  <thead>\n",
       "    <tr style=\"text-align: right;\">\n",
       "      <th></th>\n",
       "      <th>a_balance</th>\n",
       "      <th>b_balance</th>\n",
       "      <th>simulation</th>\n",
       "      <th>subset</th>\n",
       "      <th>run</th>\n",
       "      <th>substep</th>\n",
       "      <th>timestep</th>\n",
       "    </tr>\n",
       "  </thead>\n",
       "  <tbody>\n",
       "    <tr>\n",
       "      <th>0</th>\n",
       "      <td>20503500000</td>\n",
       "      <td>2112188229496500000</td>\n",
       "      <td>0</td>\n",
       "      <td>0</td>\n",
       "      <td>1</td>\n",
       "      <td>0</td>\n",
       "      <td>0</td>\n",
       "    </tr>\n",
       "    <tr>\n",
       "      <th>1</th>\n",
       "      <td>5503500000</td>\n",
       "      <td>2112188239496500000</td>\n",
       "      <td>0</td>\n",
       "      <td>0</td>\n",
       "      <td>1</td>\n",
       "      <td>1</td>\n",
       "      <td>1</td>\n",
       "    </tr>\n",
       "    <tr>\n",
       "      <th>2</th>\n",
       "      <td>15503500000</td>\n",
       "      <td>2112188229496500000</td>\n",
       "      <td>0</td>\n",
       "      <td>0</td>\n",
       "      <td>1</td>\n",
       "      <td>1</td>\n",
       "      <td>2</td>\n",
       "    </tr>\n",
       "    <tr>\n",
       "      <th>3</th>\n",
       "      <td>20503500000</td>\n",
       "      <td>2112188229496500000</td>\n",
       "      <td>0</td>\n",
       "      <td>0</td>\n",
       "      <td>1</td>\n",
       "      <td>1</td>\n",
       "      <td>3</td>\n",
       "    </tr>\n",
       "    <tr>\n",
       "      <th>4</th>\n",
       "      <td>20503500000</td>\n",
       "      <td>2112188229496500000</td>\n",
       "      <td>0</td>\n",
       "      <td>0</td>\n",
       "      <td>1</td>\n",
       "      <td>1</td>\n",
       "      <td>4</td>\n",
       "    </tr>\n",
       "    <tr>\n",
       "      <th>5</th>\n",
       "      <td>20503500000</td>\n",
       "      <td>2112188229496500000</td>\n",
       "      <td>0</td>\n",
       "      <td>0</td>\n",
       "      <td>1</td>\n",
       "      <td>1</td>\n",
       "      <td>5</td>\n",
       "    </tr>\n",
       "    <tr>\n",
       "      <th>6</th>\n",
       "      <td>20503500000</td>\n",
       "      <td>2112188229496500000</td>\n",
       "      <td>0</td>\n",
       "      <td>0</td>\n",
       "      <td>1</td>\n",
       "      <td>1</td>\n",
       "      <td>6</td>\n",
       "    </tr>\n",
       "    <tr>\n",
       "      <th>7</th>\n",
       "      <td>20503500000</td>\n",
       "      <td>2112188229496500000</td>\n",
       "      <td>0</td>\n",
       "      <td>0</td>\n",
       "      <td>1</td>\n",
       "      <td>1</td>\n",
       "      <td>7</td>\n",
       "    </tr>\n",
       "    <tr>\n",
       "      <th>8</th>\n",
       "      <td>20503500000</td>\n",
       "      <td>2112188229496500000</td>\n",
       "      <td>0</td>\n",
       "      <td>0</td>\n",
       "      <td>1</td>\n",
       "      <td>1</td>\n",
       "      <td>8</td>\n",
       "    </tr>\n",
       "    <tr>\n",
       "      <th>9</th>\n",
       "      <td>15503500000</td>\n",
       "      <td>2112188234496500000</td>\n",
       "      <td>0</td>\n",
       "      <td>0</td>\n",
       "      <td>1</td>\n",
       "      <td>1</td>\n",
       "      <td>9</td>\n",
       "    </tr>\n",
       "    <tr>\n",
       "      <th>10</th>\n",
       "      <td>10503500000</td>\n",
       "      <td>2112188239496500000</td>\n",
       "      <td>0</td>\n",
       "      <td>0</td>\n",
       "      <td>1</td>\n",
       "      <td>1</td>\n",
       "      <td>10</td>\n",
       "    </tr>\n",
       "    <tr>\n",
       "      <th>11</th>\n",
       "      <td>20503500000</td>\n",
       "      <td>2112188229496500000</td>\n",
       "      <td>0</td>\n",
       "      <td>0</td>\n",
       "      <td>2</td>\n",
       "      <td>0</td>\n",
       "      <td>0</td>\n",
       "    </tr>\n",
       "    <tr>\n",
       "      <th>12</th>\n",
       "      <td>5503500000</td>\n",
       "      <td>2112188244496500000</td>\n",
       "      <td>0</td>\n",
       "      <td>0</td>\n",
       "      <td>2</td>\n",
       "      <td>1</td>\n",
       "      <td>1</td>\n",
       "    </tr>\n",
       "    <tr>\n",
       "      <th>13</th>\n",
       "      <td>10503500000</td>\n",
       "      <td>2112188239496500000</td>\n",
       "      <td>0</td>\n",
       "      <td>0</td>\n",
       "      <td>2</td>\n",
       "      <td>1</td>\n",
       "      <td>2</td>\n",
       "    </tr>\n",
       "    <tr>\n",
       "      <th>14</th>\n",
       "      <td>20503500000</td>\n",
       "      <td>2112188229496500000</td>\n",
       "      <td>0</td>\n",
       "      <td>0</td>\n",
       "      <td>2</td>\n",
       "      <td>1</td>\n",
       "      <td>3</td>\n",
       "    </tr>\n",
       "    <tr>\n",
       "      <th>15</th>\n",
       "      <td>20503500000</td>\n",
       "      <td>2112188229496500000</td>\n",
       "      <td>0</td>\n",
       "      <td>0</td>\n",
       "      <td>2</td>\n",
       "      <td>1</td>\n",
       "      <td>4</td>\n",
       "    </tr>\n",
       "    <tr>\n",
       "      <th>16</th>\n",
       "      <td>20503500000</td>\n",
       "      <td>2112188229496500000</td>\n",
       "      <td>0</td>\n",
       "      <td>0</td>\n",
       "      <td>2</td>\n",
       "      <td>1</td>\n",
       "      <td>5</td>\n",
       "    </tr>\n",
       "    <tr>\n",
       "      <th>17</th>\n",
       "      <td>20503500000</td>\n",
       "      <td>2112188229496500000</td>\n",
       "      <td>0</td>\n",
       "      <td>0</td>\n",
       "      <td>2</td>\n",
       "      <td>1</td>\n",
       "      <td>6</td>\n",
       "    </tr>\n",
       "    <tr>\n",
       "      <th>18</th>\n",
       "      <td>25503500000</td>\n",
       "      <td>2112188229496500000</td>\n",
       "      <td>0</td>\n",
       "      <td>0</td>\n",
       "      <td>2</td>\n",
       "      <td>1</td>\n",
       "      <td>7</td>\n",
       "    </tr>\n",
       "    <tr>\n",
       "      <th>19</th>\n",
       "      <td>15503500000</td>\n",
       "      <td>2112188229496500000</td>\n",
       "      <td>0</td>\n",
       "      <td>0</td>\n",
       "      <td>2</td>\n",
       "      <td>1</td>\n",
       "      <td>8</td>\n",
       "    </tr>\n",
       "    <tr>\n",
       "      <th>20</th>\n",
       "      <td>20503500000</td>\n",
       "      <td>2112188229496500000</td>\n",
       "      <td>0</td>\n",
       "      <td>0</td>\n",
       "      <td>2</td>\n",
       "      <td>1</td>\n",
       "      <td>9</td>\n",
       "    </tr>\n",
       "    <tr>\n",
       "      <th>21</th>\n",
       "      <td>15503500000</td>\n",
       "      <td>2112188234496500000</td>\n",
       "      <td>0</td>\n",
       "      <td>0</td>\n",
       "      <td>2</td>\n",
       "      <td>1</td>\n",
       "      <td>10</td>\n",
       "    </tr>\n",
       "  </tbody>\n",
       "</table>\n",
       "</div>"
      ],
      "text/plain": [
       "      a_balance            b_balance  simulation  subset  run  substep  \\\n",
       "0   20503500000  2112188229496500000           0       0    1        0   \n",
       "1    5503500000  2112188239496500000           0       0    1        1   \n",
       "2   15503500000  2112188229496500000           0       0    1        1   \n",
       "3   20503500000  2112188229496500000           0       0    1        1   \n",
       "4   20503500000  2112188229496500000           0       0    1        1   \n",
       "5   20503500000  2112188229496500000           0       0    1        1   \n",
       "6   20503500000  2112188229496500000           0       0    1        1   \n",
       "7   20503500000  2112188229496500000           0       0    1        1   \n",
       "8   20503500000  2112188229496500000           0       0    1        1   \n",
       "9   15503500000  2112188234496500000           0       0    1        1   \n",
       "10  10503500000  2112188239496500000           0       0    1        1   \n",
       "11  20503500000  2112188229496500000           0       0    2        0   \n",
       "12   5503500000  2112188244496500000           0       0    2        1   \n",
       "13  10503500000  2112188239496500000           0       0    2        1   \n",
       "14  20503500000  2112188229496500000           0       0    2        1   \n",
       "15  20503500000  2112188229496500000           0       0    2        1   \n",
       "16  20503500000  2112188229496500000           0       0    2        1   \n",
       "17  20503500000  2112188229496500000           0       0    2        1   \n",
       "18  25503500000  2112188229496500000           0       0    2        1   \n",
       "19  15503500000  2112188229496500000           0       0    2        1   \n",
       "20  20503500000  2112188229496500000           0       0    2        1   \n",
       "21  15503500000  2112188234496500000           0       0    2        1   \n",
       "\n",
       "    timestep  \n",
       "0          0  \n",
       "1          1  \n",
       "2          2  \n",
       "3          3  \n",
       "4          4  \n",
       "5          5  \n",
       "6          6  \n",
       "7          7  \n",
       "8          8  \n",
       "9          9  \n",
       "10        10  \n",
       "11         0  \n",
       "12         1  \n",
       "13         2  \n",
       "14         3  \n",
       "15         4  \n",
       "16         5  \n",
       "17         6  \n",
       "18         7  \n",
       "19         8  \n",
       "20         9  \n",
       "21        10  "
      ]
     },
     "execution_count": 155,
     "metadata": {},
     "output_type": "execute_result"
    }
   ],
   "source": [
    "df2 = pd.DataFrame(result)\n",
    "df2"
   ]
  }
 ],
 "metadata": {
  "kernelspec": {
   "display_name": "venv",
   "language": "python",
   "name": "python3"
  },
  "language_info": {
   "codemirror_mode": {
    "name": "ipython",
    "version": 3
   },
   "file_extension": ".py",
   "mimetype": "text/x-python",
   "name": "python",
   "nbconvert_exporter": "python",
   "pygments_lexer": "ipython3",
   "version": "3.9.6"
  }
 },
 "nbformat": 4,
 "nbformat_minor": 2
}
